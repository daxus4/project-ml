{
 "cells": [
  {
   "cell_type": "markdown",
   "metadata": {},
   "source": [
    "# Machine Learning Project 2021\n",
    "##### Davide Raffaelli\n",
    "## Predicting taxonomic identity and genetic composition based on codon usage bias levels"
   ]
  },
  {
   "cell_type": "code",
   "execution_count": 53,
   "metadata": {},
   "outputs": [],
   "source": [
    "import pandas as pd\n",
    "import numpy as np\n",
    "import matplotlib.pyplot as plt\n",
    "import seaborn as sns\n",
    "\n",
    "from IPython.core.interactiveshell import InteractiveShell\n",
    "InteractiveShell.ast_node_interactivity = \"all\""
   ]
  },
  {
   "cell_type": "code",
   "execution_count": 54,
   "metadata": {},
   "outputs": [
    {
     "data": {
      "text/html": [
       "<div>\n",
       "<style scoped>\n",
       "    .dataframe tbody tr th:only-of-type {\n",
       "        vertical-align: middle;\n",
       "    }\n",
       "\n",
       "    .dataframe tbody tr th {\n",
       "        vertical-align: top;\n",
       "    }\n",
       "\n",
       "    .dataframe thead th {\n",
       "        text-align: right;\n",
       "    }\n",
       "</style>\n",
       "<table border=\"1\" class=\"dataframe\">\n",
       "  <thead>\n",
       "    <tr style=\"text-align: right;\">\n",
       "      <th></th>\n",
       "      <th>Kingdom</th>\n",
       "      <th>DNAtype</th>\n",
       "      <th>Ncodons</th>\n",
       "      <th>UUU</th>\n",
       "      <th>UUC</th>\n",
       "      <th>UUA</th>\n",
       "      <th>UUG</th>\n",
       "      <th>CUU</th>\n",
       "      <th>CUC</th>\n",
       "      <th>CUA</th>\n",
       "      <th>...</th>\n",
       "      <th>CGG</th>\n",
       "      <th>AGA</th>\n",
       "      <th>AGG</th>\n",
       "      <th>GAU</th>\n",
       "      <th>GAC</th>\n",
       "      <th>GAA</th>\n",
       "      <th>GAG</th>\n",
       "      <th>UAA</th>\n",
       "      <th>UAG</th>\n",
       "      <th>UGA</th>\n",
       "    </tr>\n",
       "  </thead>\n",
       "  <tbody>\n",
       "    <tr>\n",
       "      <th>0</th>\n",
       "      <td>vrl</td>\n",
       "      <td>0</td>\n",
       "      <td>6686</td>\n",
       "      <td>0.01541</td>\n",
       "      <td>0.00927</td>\n",
       "      <td>0.01720</td>\n",
       "      <td>0.01825</td>\n",
       "      <td>0.01436</td>\n",
       "      <td>0.02303</td>\n",
       "      <td>0.01555</td>\n",
       "      <td>...</td>\n",
       "      <td>0.00643</td>\n",
       "      <td>0.02064</td>\n",
       "      <td>0.01182</td>\n",
       "      <td>0.02812</td>\n",
       "      <td>0.00838</td>\n",
       "      <td>0.03365</td>\n",
       "      <td>0.01974</td>\n",
       "      <td>0.01511</td>\n",
       "      <td>0.00030</td>\n",
       "      <td>0.00030</td>\n",
       "    </tr>\n",
       "    <tr>\n",
       "      <th>1</th>\n",
       "      <td>inv</td>\n",
       "      <td>0</td>\n",
       "      <td>10060</td>\n",
       "      <td>0.01213</td>\n",
       "      <td>0.02515</td>\n",
       "      <td>0.00268</td>\n",
       "      <td>0.01352</td>\n",
       "      <td>0.01372</td>\n",
       "      <td>0.01143</td>\n",
       "      <td>0.00775</td>\n",
       "      <td>...</td>\n",
       "      <td>0.00268</td>\n",
       "      <td>0.00915</td>\n",
       "      <td>0.01412</td>\n",
       "      <td>0.03280</td>\n",
       "      <td>0.02555</td>\n",
       "      <td>0.03708</td>\n",
       "      <td>0.05398</td>\n",
       "      <td>0.03330</td>\n",
       "      <td>0.00030</td>\n",
       "      <td>0.00050</td>\n",
       "    </tr>\n",
       "    <tr>\n",
       "      <th>2</th>\n",
       "      <td>bct</td>\n",
       "      <td>0</td>\n",
       "      <td>14031</td>\n",
       "      <td>0.02580</td>\n",
       "      <td>0.01618</td>\n",
       "      <td>0.03606</td>\n",
       "      <td>0.01354</td>\n",
       "      <td>0.00848</td>\n",
       "      <td>0.02067</td>\n",
       "      <td>0.01041</td>\n",
       "      <td>...</td>\n",
       "      <td>0.00114</td>\n",
       "      <td>0.01775</td>\n",
       "      <td>0.00499</td>\n",
       "      <td>0.03756</td>\n",
       "      <td>0.02523</td>\n",
       "      <td>0.05388</td>\n",
       "      <td>0.01946</td>\n",
       "      <td>0.02245</td>\n",
       "      <td>0.00121</td>\n",
       "      <td>0.00086</td>\n",
       "    </tr>\n",
       "    <tr>\n",
       "      <th>3</th>\n",
       "      <td>bct</td>\n",
       "      <td>0</td>\n",
       "      <td>39839</td>\n",
       "      <td>0.00128</td>\n",
       "      <td>0.02141</td>\n",
       "      <td>0.01225</td>\n",
       "      <td>0.01649</td>\n",
       "      <td>0.01330</td>\n",
       "      <td>0.01308</td>\n",
       "      <td>0.00399</td>\n",
       "      <td>...</td>\n",
       "      <td>0.01177</td>\n",
       "      <td>0.00705</td>\n",
       "      <td>0.00422</td>\n",
       "      <td>0.03316</td>\n",
       "      <td>0.02229</td>\n",
       "      <td>0.03444</td>\n",
       "      <td>0.02370</td>\n",
       "      <td>0.00831</td>\n",
       "      <td>0.00028</td>\n",
       "      <td>0.00063</td>\n",
       "    </tr>\n",
       "    <tr>\n",
       "      <th>4</th>\n",
       "      <td>vrt</td>\n",
       "      <td>1</td>\n",
       "      <td>5112</td>\n",
       "      <td>0.03169</td>\n",
       "      <td>0.01780</td>\n",
       "      <td>0.03893</td>\n",
       "      <td>0.00000</td>\n",
       "      <td>0.06240</td>\n",
       "      <td>0.01056</td>\n",
       "      <td>0.05262</td>\n",
       "      <td>...</td>\n",
       "      <td>0.00000</td>\n",
       "      <td>0.00000</td>\n",
       "      <td>0.00000</td>\n",
       "      <td>0.00020</td>\n",
       "      <td>0.01389</td>\n",
       "      <td>0.02465</td>\n",
       "      <td>0.00352</td>\n",
       "      <td>0.00352</td>\n",
       "      <td>0.00000</td>\n",
       "      <td>0.02465</td>\n",
       "    </tr>\n",
       "    <tr>\n",
       "      <th>...</th>\n",
       "      <td>...</td>\n",
       "      <td>...</td>\n",
       "      <td>...</td>\n",
       "      <td>...</td>\n",
       "      <td>...</td>\n",
       "      <td>...</td>\n",
       "      <td>...</td>\n",
       "      <td>...</td>\n",
       "      <td>...</td>\n",
       "      <td>...</td>\n",
       "      <td>...</td>\n",
       "      <td>...</td>\n",
       "      <td>...</td>\n",
       "      <td>...</td>\n",
       "      <td>...</td>\n",
       "      <td>...</td>\n",
       "      <td>...</td>\n",
       "      <td>...</td>\n",
       "      <td>...</td>\n",
       "      <td>...</td>\n",
       "      <td>...</td>\n",
       "    </tr>\n",
       "    <tr>\n",
       "      <th>10417</th>\n",
       "      <td>pln</td>\n",
       "      <td>0</td>\n",
       "      <td>1791</td>\n",
       "      <td>0.02289</td>\n",
       "      <td>0.02959</td>\n",
       "      <td>0.00614</td>\n",
       "      <td>0.02680</td>\n",
       "      <td>0.01452</td>\n",
       "      <td>0.02178</td>\n",
       "      <td>0.00558</td>\n",
       "      <td>...</td>\n",
       "      <td>0.00558</td>\n",
       "      <td>0.00893</td>\n",
       "      <td>0.01173</td>\n",
       "      <td>0.03071</td>\n",
       "      <td>0.01954</td>\n",
       "      <td>0.01787</td>\n",
       "      <td>0.02848</td>\n",
       "      <td>0.03127</td>\n",
       "      <td>0.00112</td>\n",
       "      <td>0.00000</td>\n",
       "    </tr>\n",
       "    <tr>\n",
       "      <th>10418</th>\n",
       "      <td>vrl</td>\n",
       "      <td>0</td>\n",
       "      <td>68352</td>\n",
       "      <td>0.02532</td>\n",
       "      <td>0.01557</td>\n",
       "      <td>0.00878</td>\n",
       "      <td>0.01185</td>\n",
       "      <td>0.01160</td>\n",
       "      <td>0.02654</td>\n",
       "      <td>0.00979</td>\n",
       "      <td>...</td>\n",
       "      <td>0.00477</td>\n",
       "      <td>0.01274</td>\n",
       "      <td>0.01008</td>\n",
       "      <td>0.02070</td>\n",
       "      <td>0.00726</td>\n",
       "      <td>0.02388</td>\n",
       "      <td>0.02233</td>\n",
       "      <td>0.01814</td>\n",
       "      <td>0.00025</td>\n",
       "      <td>0.00038</td>\n",
       "    </tr>\n",
       "    <tr>\n",
       "      <th>10419</th>\n",
       "      <td>bct</td>\n",
       "      <td>0</td>\n",
       "      <td>2292</td>\n",
       "      <td>0.01614</td>\n",
       "      <td>0.02618</td>\n",
       "      <td>0.00131</td>\n",
       "      <td>0.01003</td>\n",
       "      <td>0.02661</td>\n",
       "      <td>0.01658</td>\n",
       "      <td>0.00218</td>\n",
       "      <td>...</td>\n",
       "      <td>0.01702</td>\n",
       "      <td>0.00175</td>\n",
       "      <td>0.00567</td>\n",
       "      <td>0.02487</td>\n",
       "      <td>0.00000</td>\n",
       "      <td>0.02661</td>\n",
       "      <td>0.02618</td>\n",
       "      <td>0.01353</td>\n",
       "      <td>0.00000</td>\n",
       "      <td>0.00349</td>\n",
       "    </tr>\n",
       "    <tr>\n",
       "      <th>10420</th>\n",
       "      <td>pln</td>\n",
       "      <td>2</td>\n",
       "      <td>1022</td>\n",
       "      <td>0.00196</td>\n",
       "      <td>0.01761</td>\n",
       "      <td>0.04501</td>\n",
       "      <td>0.03131</td>\n",
       "      <td>0.02544</td>\n",
       "      <td>0.00978</td>\n",
       "      <td>0.01761</td>\n",
       "      <td>...</td>\n",
       "      <td>0.00391</td>\n",
       "      <td>0.01566</td>\n",
       "      <td>0.00391</td>\n",
       "      <td>0.02348</td>\n",
       "      <td>0.01957</td>\n",
       "      <td>0.03523</td>\n",
       "      <td>0.00978</td>\n",
       "      <td>0.00196</td>\n",
       "      <td>0.00000</td>\n",
       "      <td>0.00196</td>\n",
       "    </tr>\n",
       "    <tr>\n",
       "      <th>10421</th>\n",
       "      <td>pln</td>\n",
       "      <td>2</td>\n",
       "      <td>1026</td>\n",
       "      <td>0.01754</td>\n",
       "      <td>0.03704</td>\n",
       "      <td>0.01559</td>\n",
       "      <td>0.01852</td>\n",
       "      <td>0.01949</td>\n",
       "      <td>0.05263</td>\n",
       "      <td>0.02534</td>\n",
       "      <td>...</td>\n",
       "      <td>0.00390</td>\n",
       "      <td>0.01754</td>\n",
       "      <td>0.00975</td>\n",
       "      <td>0.03314</td>\n",
       "      <td>0.00390</td>\n",
       "      <td>0.03899</td>\n",
       "      <td>0.00780</td>\n",
       "      <td>0.00195</td>\n",
       "      <td>0.00000</td>\n",
       "      <td>0.00195</td>\n",
       "    </tr>\n",
       "  </tbody>\n",
       "</table>\n",
       "<p>10422 rows × 67 columns</p>\n",
       "</div>"
      ],
      "text/plain": [
       "      Kingdom  DNAtype  Ncodons      UUU      UUC      UUA      UUG      CUU  \\\n",
       "0         vrl        0     6686  0.01541  0.00927  0.01720  0.01825  0.01436   \n",
       "1         inv        0    10060  0.01213  0.02515  0.00268  0.01352  0.01372   \n",
       "2         bct        0    14031  0.02580  0.01618  0.03606  0.01354  0.00848   \n",
       "3         bct        0    39839  0.00128  0.02141  0.01225  0.01649  0.01330   \n",
       "4         vrt        1     5112  0.03169  0.01780  0.03893  0.00000  0.06240   \n",
       "...       ...      ...      ...      ...      ...      ...      ...      ...   \n",
       "10417     pln        0     1791  0.02289  0.02959  0.00614  0.02680  0.01452   \n",
       "10418     vrl        0    68352  0.02532  0.01557  0.00878  0.01185  0.01160   \n",
       "10419     bct        0     2292  0.01614  0.02618  0.00131  0.01003  0.02661   \n",
       "10420     pln        2     1022  0.00196  0.01761  0.04501  0.03131  0.02544   \n",
       "10421     pln        2     1026  0.01754  0.03704  0.01559  0.01852  0.01949   \n",
       "\n",
       "           CUC      CUA  ...      CGG      AGA      AGG      GAU      GAC  \\\n",
       "0      0.02303  0.01555  ...  0.00643  0.02064  0.01182  0.02812  0.00838   \n",
       "1      0.01143  0.00775  ...  0.00268  0.00915  0.01412  0.03280  0.02555   \n",
       "2      0.02067  0.01041  ...  0.00114  0.01775  0.00499  0.03756  0.02523   \n",
       "3      0.01308  0.00399  ...  0.01177  0.00705  0.00422  0.03316  0.02229   \n",
       "4      0.01056  0.05262  ...  0.00000  0.00000  0.00000  0.00020  0.01389   \n",
       "...        ...      ...  ...      ...      ...      ...      ...      ...   \n",
       "10417  0.02178  0.00558  ...  0.00558  0.00893  0.01173  0.03071  0.01954   \n",
       "10418  0.02654  0.00979  ...  0.00477  0.01274  0.01008  0.02070  0.00726   \n",
       "10419  0.01658  0.00218  ...  0.01702  0.00175  0.00567  0.02487  0.00000   \n",
       "10420  0.00978  0.01761  ...  0.00391  0.01566  0.00391  0.02348  0.01957   \n",
       "10421  0.05263  0.02534  ...  0.00390  0.01754  0.00975  0.03314  0.00390   \n",
       "\n",
       "           GAA      GAG      UAA      UAG      UGA  \n",
       "0      0.03365  0.01974  0.01511  0.00030  0.00030  \n",
       "1      0.03708  0.05398  0.03330  0.00030  0.00050  \n",
       "2      0.05388  0.01946  0.02245  0.00121  0.00086  \n",
       "3      0.03444  0.02370  0.00831  0.00028  0.00063  \n",
       "4      0.02465  0.00352  0.00352  0.00000  0.02465  \n",
       "...        ...      ...      ...      ...      ...  \n",
       "10417  0.01787  0.02848  0.03127  0.00112  0.00000  \n",
       "10418  0.02388  0.02233  0.01814  0.00025  0.00038  \n",
       "10419  0.02661  0.02618  0.01353  0.00000  0.00349  \n",
       "10420  0.03523  0.00978  0.00196  0.00000  0.00196  \n",
       "10421  0.03899  0.00780  0.00195  0.00000  0.00195  \n",
       "\n",
       "[10422 rows x 67 columns]"
      ]
     },
     "execution_count": 54,
     "metadata": {},
     "output_type": "execute_result"
    }
   ],
   "source": [
    "df = pd.read_csv(\"train.csv\")\n",
    "df.drop('Unnamed: 0', inplace=True, axis=1)\n",
    "df.drop(\"SpeciesID\", inplace=True, axis=1)\n",
    "df.drop(\"SpeciesName\", inplace=True, axis=1)\n",
    "df\n",
    "kingdoms = np.unique(df.iloc[:,0:1])"
   ]
  },
  {
   "cell_type": "markdown",
   "metadata": {},
   "source": [
    "Let's check if there are some NAs"
   ]
  },
  {
   "cell_type": "code",
   "execution_count": 55,
   "metadata": {},
   "outputs": [
    {
     "data": {
      "text/plain": [
       "0"
      ]
     },
     "execution_count": 55,
     "metadata": {},
     "output_type": "execute_result"
    }
   ],
   "source": [
    "np.any(df.isna(), axis=1).sum()"
   ]
  },
  {
   "cell_type": "markdown",
   "metadata": {},
   "source": [
    "We order by kingdom to have a nice plot."
   ]
  },
  {
   "cell_type": "code",
   "execution_count": 56,
   "metadata": {
    "scrolled": true
   },
   "outputs": [],
   "source": [
    "df.sort_values(by = [\"Kingdom\"], inplace = True, ignore_index=True)"
   ]
  },
  {
   "cell_type": "markdown",
   "metadata": {},
   "source": [
    "## Data visualization"
   ]
  },
  {
   "cell_type": "markdown",
   "metadata": {},
   "source": [
    "Choose colors"
   ]
  },
  {
   "cell_type": "code",
   "execution_count": null,
   "metadata": {
    "scrolled": true
   },
   "outputs": [],
   "source": [
    "colors=sns.color_palette(\"tab10\", 11)"
   ]
  },
  {
   "cell_type": "markdown",
   "metadata": {},
   "source": [
    "Plot samples"
   ]
  },
  {
   "cell_type": "code",
   "execution_count": null,
   "metadata": {},
   "outputs": [],
   "source": [
    "sns.countplot(x=\"Kingdom\",data=df,palette=colors)\n",
    "df[\"Kingdom\"].value_counts()"
   ]
  },
  {
   "cell_type": "code",
   "execution_count": null,
   "metadata": {},
   "outputs": [],
   "source": [
    "sns.countplot(x=\"DNAtype\",data=df,palette=colors)\n",
    "df[\"DNAtype\"].value_counts()"
   ]
  },
  {
   "cell_type": "markdown",
   "metadata": {},
   "source": [
    "As we can see, the outcomes are unbalanced, so we have to keep in mind this when we do our analysis.\n",
    "\n",
    "In this project we want to use clustering and classification techniques so, since there are many classes with a really low number of samples, we want to exclude the samples that belong to classes with only one sample or with a very few samples (< 0.25% of the dataset).\n",
    "\n",
    "Before this, it seems right to see for Kingdom = plm and DNAtype = 4 (the bigger classes of those we want to delete) the relative other outcome, in order to check if there is a link."
   ]
  },
  {
   "cell_type": "code",
   "execution_count": null,
   "metadata": {},
   "outputs": [],
   "source": [
    "df[df[\"Kingdom\"] == \"plm\"]\n",
    "df[df[\"DNAtype\"] == 4]"
   ]
  },
  {
   "cell_type": "markdown",
   "metadata": {},
   "source": [
    "As we can see the samples of plm kingdom type are of 0 DNAtype, which it doesn't seem strange since DNAtype 0 is more or less 2/3 of total database.\n",
    "\n",
    "A more interesting information is that almost all samples with DNAtype = 4 are pln. Since the number of samples with DNAtype = 4 is < 0.25% of database, I decided to drop the samples of this class, but for future researches in which there are more data, it could be useful to inspect deeper this relation."
   ]
  },
  {
   "cell_type": "code",
   "execution_count": 57,
   "metadata": {},
   "outputs": [
    {
     "data": {
      "text/plain": [
       "bct    2334\n",
       "vrl    2265\n",
       "pln    1992\n",
       "vrt    1662\n",
       "inv    1067\n",
       "mam     458\n",
       "phg     176\n",
       "rod     172\n",
       "pri     144\n",
       "arc     101\n",
       "Name: Kingdom, dtype: int64"
      ]
     },
     "execution_count": 57,
     "metadata": {},
     "output_type": "execute_result"
    },
    {
     "data": {
      "text/plain": [
       "0    7393\n",
       "1    2320\n",
       "2     658\n",
       "Name: DNAtype, dtype: int64"
      ]
     },
     "execution_count": 57,
     "metadata": {},
     "output_type": "execute_result"
    }
   ],
   "source": [
    "df = df[df[\"Kingdom\"] != \"plm\"]\n",
    "df = df[df[\"DNAtype\"] <= 2]\n",
    "df.reset_index(inplace = True, drop = True)\n",
    "df[\"Kingdom\"].value_counts()\n",
    "df[\"DNAtype\"].value_counts()"
   ]
  },
  {
   "cell_type": "markdown",
   "metadata": {},
   "source": [
    "As we can see the dataset contains a lot of data and, since my laptop is very cheap I cannot run some algorithm with the complete dataset. So we have to create a smaller dataset and use it for the most time and memory consuming algorithm."
   ]
  },
  {
   "cell_type": "code",
   "execution_count": null,
   "metadata": {},
   "outputs": [],
   "source": [
    "fraction = 0.5\n",
    "small_df_indexes = []\n",
    "seed = 444\n",
    "for kingdom in df[\"Kingdom\"].unique() :\n",
    "    np.random.seed(seed)\n",
    "    seed = seed + 1\n",
    "    small_df_indexes.extend(\n",
    "        np.random.choice(df[df[\"Kingdom\"] == kingdom].index.values,\n",
    "                         size = int(round(df[df[\"Kingdom\"] == kingdom].index.values.size * fraction)), \n",
    "                         replace = False))\n",
    "small_df_indexes = np.sort(np.array(small_df_indexes))"
   ]
  },
  {
   "cell_type": "markdown",
   "metadata": {},
   "source": [
    "Now we check if the data distribution of DNAtype of the small dataset is similar to the complete dataset. The distribution of Kingdom is the same because we use 60% of sample for each kingdom."
   ]
  },
  {
   "cell_type": "code",
   "execution_count": null,
   "metadata": {},
   "outputs": [],
   "source": [
    "sns.countplot(x=\"DNAtype\",data=df.iloc[small_df_indexes],palette=colors)\n",
    "\n",
    "# print fraction of samples\n",
    "df[\"DNAtype\"].iloc[small_df_indexes].value_counts() / df[\"DNAtype\"].value_counts()"
   ]
  },
  {
   "cell_type": "markdown",
   "metadata": {},
   "source": [
    "As we can see the proportion is right after the sampling."
   ]
  },
  {
   "cell_type": "markdown",
   "metadata": {},
   "source": [
    "Correlation between covariates"
   ]
  },
  {
   "cell_type": "code",
   "execution_count": 58,
   "metadata": {},
   "outputs": [
    {
     "data": {
      "text/plain": [
       "<AxesSubplot:>"
      ]
     },
     "execution_count": 58,
     "metadata": {},
     "output_type": "execute_result"
    },
    {
     "data": {
      "image/png": "[encoded data removed]",
      "text/plain": [
       "<Figure size 1224x1224 with 2 Axes>"
      ]
     },
     "metadata": {
      "needs_background": "light"
     },
     "output_type": "display_data"
    }
   ],
   "source": [
    "fig=plt.figure(figsize=(17,17))\n",
    "cormat=df.iloc[:,2:].corr()\n",
    "sns.heatmap(cormat,vmin=-1,vmax=1,square=True, cmap = sns.color_palette(\"icefire\", as_cmap=True))"
   ]
  },
  {
   "cell_type": "markdown",
   "metadata": {},
   "source": [
    "As we can see we have some covariates that are highly correlated, indicating that there can be collinearity. Now we want to know the pair of covariates that are most correlated."
   ]
  },
  {
   "cell_type": "code",
   "execution_count": 60,
   "metadata": {},
   "outputs": [
    {
     "name": "stdout",
     "output_type": "stream",
     "text": [
      "[['UUC', 'AUC'], ['UUA', 'AUU'], ['UUA', 'AUA'], ['CUA', 'ACA'], ['CUA', 'UGA'], ['CUG', 'GUG'], ['CUG', 'GCG'], ['CUG', 'CCG'], ['CUG', 'GGC'], ['CUG', 'CAG'], ['CUG', 'CGG'], ['AUC', 'AGU'], ['GUC', 'GCC'], ['GUC', 'GGC'], ['GUG', 'GAG'], ['GCC', 'GGC'], ['GCC', 'UAU'], ['GCC', 'AAU'], ['GCG', 'CCG'], ['GCG', 'GGC'], ['GCG', 'UCG'], ['GCG', 'ACG'], ['GCG', 'CGG'], ['CCG', 'GGC'], ['CCG', 'UCG'], ['CCG', 'ACG'], ['CCG', 'CGG'], ['UCG', 'ACG'], ['UAU', 'AAU'], ['CAG', 'GAG'], ['AAU', 'AAA'], ['AAA', 'GAA'], ['AAG', 'GAG'], ['GAU', 'GAA']]\n"
     ]
    }
   ],
   "source": [
    "cov_names = list(cormat)\n",
    "cov_correlated = []\n",
    "for r in range(len(cov_names)):\n",
    "    for c in range(r+1,len(cov_names)):\n",
    "        if cormat.iloc[r,c] > 0.65 or cormat.iloc[r,c] < -0.65:\n",
    "            cov_correlated.append([cov_names[r],cov_names[c]])\n",
    "print(cov_correlated)"
   ]
  },
  {
   "cell_type": "markdown",
   "metadata": {},
   "source": [
    "Now we want to see how much the covariates vary."
   ]
  },
  {
   "cell_type": "markdown",
   "metadata": {},
   "source": [
    "Plot means"
   ]
  },
  {
   "cell_type": "code",
   "execution_count": null,
   "metadata": {},
   "outputs": [],
   "source": [
    "avgs = df.iloc[:,3:].mean(axis = 0)\n",
    "avgs.sort_values(ascending = True, inplace = True)\n",
    "\n",
    "fig, ax = plt.subplots(figsize=(10,20))\n",
    "\n",
    "ax.hlines(y=list(df)[3:], xmin = 0,xmax = 0.03,color='gray', alpha=0.7, linewidth=1, linestyles='dashdot')\n",
    "ax.scatter(y=list(df)[3:], x=avgs.values, s=65, c=avgs.values, cmap='Blues', alpha=0.9)\n",
    "\n",
    "# Title, Label, Ticks and Ylim\n",
    "ax.set_title('Dot Plot for Protein Mean', fontdict={'size':14})\n",
    "ax.set_xlabel('Mean')\n",
    "ax.tick_params(axis='y', which='major', labelsize=9)"
   ]
  },
  {
   "cell_type": "markdown",
   "metadata": {},
   "source": [
    "Plot distributions"
   ]
  },
  {
   "cell_type": "code",
   "execution_count": null,
   "metadata": {},
   "outputs": [],
   "source": [
    "variances = df.iloc[:,3:].var()\n",
    "variances.sort_values(ascending = False, inplace = True)\n",
    "\n",
    "fig=plt.figure(figsize=(10,30))\n",
    "a=sns.violinplot(data=df.iloc[:,3:],orient=\"h\",scale=\"count\", order=variances.index.tolist())\n",
    "a.set(xlabel='measure', ylabel='protein')\n",
    "a.xaxis.set_ticks_position('top')\n",
    "plt.grid()"
   ]
  },
  {
   "cell_type": "markdown",
   "metadata": {},
   "source": [
    "As we can see we have to standardize the data if we want to use methods like PCA, even if we exclude Ncodons"
   ]
  },
  {
   "cell_type": "markdown",
   "metadata": {},
   "source": [
    "With the mutual info criteria we order the covariates in order of importance. First for all classes, then for each class."
   ]
  },
  {
   "cell_type": "code",
   "execution_count": 61,
   "metadata": {},
   "outputs": [
    {
     "name": "stdout",
     "output_type": "stream",
     "text": [
      "['CUA', 'AGG', 'UGA', 'AGA', 'AAG', 'GAU', 'UGU', 'ACA', 'GCG', 'CAG', 'GAG', 'CCA', 'CGU', 'UGG', 'AUA', 'AAA', 'AUC', 'CCG', 'GCC', 'GGC', 'UUG', 'Ncodons', 'GAA', 'ACG', 'AGU', 'UCG', 'UCA', 'AUG', 'GUG', 'UUC', 'UUA', 'UCU', 'AAU', 'CGG', 'UGC', 'CUU', 'CCC', 'CUG', 'AUU', 'CGA', 'GGA', 'CAU', 'CAC', 'CAA', 'UCC', 'UAU', 'CCU', 'ACU', 'AGC', 'GUA', 'GUC', 'GCA', 'GGG', 'UAC', 'GCU', 'UUU', 'CUC', 'UAG', 'GUU', 'UAA', 'CGC', 'ACC', 'GGU', 'AAC', 'GAC']\n"
     ]
    }
   ],
   "source": [
    "from sklearn.feature_selection import mutual_info_classif\n",
    "\n",
    "X = df.iloc[:,2:]\n",
    "mi_index = mutual_info_classif(X, df[\"Kingdom\"])\n",
    "#we get a sorted index of this list from highest to lowest\n",
    "imp_cov_king = mi_index.argsort()[::-1]\n",
    "#we get a list of proteins sorted by highest MI\n",
    "imp_cov_king=list(X.columns[imp_cov_king])\n",
    "#we check the first 20 proteins\n",
    "print(imp_cov_king)"
   ]
  },
  {
   "cell_type": "code",
   "execution_count": 62,
   "metadata": {},
   "outputs": [
    {
     "name": "stdout",
     "output_type": "stream",
     "text": [
      "['UGA', 'AAG', 'CUA', 'GAG', 'CAG', 'AGG', 'UGG', 'GUG', 'AUA', 'GAU', 'AGA', 'GCG', 'ACG', 'AUG', 'CGU', 'CCG', 'ACA', 'UUA', 'UUG', 'AUU', 'CGA', 'UCG', 'GAA', 'AGU', 'AGC', 'AAA', 'GUA', 'UGC', 'UCA', 'AUC', 'GGC', 'CUU', 'CGG', 'Ncodons', 'UGU', 'CCA', 'CUG', 'GCC', 'GUC', 'UUC', 'CAU', 'CAC', 'UAU', 'AAU', 'UCU', 'CCC', 'GCA', 'CAA', 'GGA', 'UAC', 'GGG', 'UCC', 'GCU', 'ACU', 'GUU', 'ACC', 'UAA', 'CCU', 'AAC', 'CUC', 'GAC', 'UUU', 'GGU', 'CGC', 'UAG']\n"
     ]
    }
   ],
   "source": [
    "mi_index = mutual_info_classif(X, df[\"DNAtype\"])\n",
    "#we get a sorted index of this list from highest to lowest\n",
    "imp_cov_dnat = mi_index.argsort()[::-1]\n",
    "#we get a list of proteins sorted by highest MI\n",
    "imp_cov_dnat=list(X.columns[imp_cov_dnat])\n",
    "#we check the first 20 proteins\n",
    "print(imp_cov_dnat)"
   ]
  },
  {
   "cell_type": "markdown",
   "metadata": {},
   "source": [
    "It seems that the significative covariates for one outcome tend to be significative even for the other outcome. This means that if we want to build models that will give us information about Kingdom performing feature selection we expect that the selected covaraites are more or less the sames if we want to build model for DNAtype."
   ]
  },
  {
   "cell_type": "markdown",
   "metadata": {},
   "source": [
    "Now we see which ones between the correlated covariates are less important, in order to understand which variables are those that we expect that don't bring particular information."
   ]
  },
  {
   "cell_type": "code",
   "execution_count": 63,
   "metadata": {},
   "outputs": [
    {
     "name": "stdout",
     "output_type": "stream",
     "text": [
      "{'GAA', 'ACG', 'AGU', 'GAG', 'CGG', 'GUC', 'UUC', 'UUA', 'GGC', 'AUU', 'GUG', 'GCC', 'ACA', 'UGA', 'UCG', 'UAU', 'CCG', 'AAU', 'CUG'}\n"
     ]
    }
   ],
   "source": [
    "less_imp_corr_covs = set()\n",
    "for pair in cov_correlated:\n",
    "    if (imp_cov_king.index(pair[0]) + imp_cov_dnat.index(pair[0]) <= \n",
    "        imp_cov_king.index(pair[1]) + imp_cov_dnat.index(pair[1])) :\n",
    "        less_imp_corr_covs.add(pair[1])\n",
    "    else :\n",
    "        less_imp_corr_covs.add(pair[0])\n",
    "\n",
    "print(less_imp_corr_covs)"
   ]
  },
  {
   "cell_type": "markdown",
   "metadata": {},
   "source": [
    "## Clustering"
   ]
  },
  {
   "cell_type": "markdown",
   "metadata": {},
   "source": [
    "### Hierarchical"
   ]
  },
  {
   "cell_type": "markdown",
   "metadata": {},
   "source": [
    "The first method of clustering that we use to study if there are structures in the data that allow samples from different classes (both DNA type and Kingdom) to be easily identified is the hierarchical clustering.\n",
    "\n",
    "Since we want to know if the DNA type or the Kingdom can be identified we know the number of clusters that we want to obtain, so there is no particular reason to use the hierarchical clustering because when we know the number of clusters we expect that this method will give us poorer results compared to other clustering techniques. However, here we use this method anyway, just to check the differences between the results of this method compared to the others."
   ]
  },
  {
   "cell_type": "code",
   "execution_count": null,
   "metadata": {},
   "outputs": [],
   "source": [
    "from scipy.cluster.hierarchy import dendrogram, linkage"
   ]
  },
  {
   "cell_type": "code",
   "execution_count": null,
   "metadata": {},
   "outputs": [],
   "source": [
    "def plot_dendrogram(Z=None, model=None, X=None, **kwargs):\n",
    "    annotate_above = kwargs.pop('annotate_above', 0)\n",
    "\n",
    "    # Reconstruct the linakge matrix if the standard model API was used\n",
    "    if Z is None:\n",
    "        if hasattr(model, 'distances_') and model.distances_ is not None:\n",
    "            # create the counts of samples under each node\n",
    "            counts = np.zeros(model.children_.shape[0])\n",
    "            n_samples = len(model.labels_)\n",
    "            for i, merge in enumerate(model.children_):\n",
    "                current_count = 0\n",
    "                for child_idx in merge:\n",
    "                    if child_idx < n_samples:\n",
    "                        current_count += 1  # leaf node\n",
    "                    else:\n",
    "                        current_count += counts[child_idx - n_samples]\n",
    "                counts[i] = current_count\n",
    "\n",
    "            Z = np.column_stack([model.children_, model.distances_,\n",
    "                                              counts]).astype(float)\n",
    "        else:\n",
    "            Z = linkage(X, method=model.linkage, metric=model.affinity)\n",
    "    \n",
    "    if 'n_clusters' in kwargs:\n",
    "        n_clusters = kwargs.pop('n_clusters')\n",
    "        # Set the cut point just above the last but 'n_clusters' merge\n",
    "        kwargs['color_threshold'] = Z[-n_clusters, 2] + 1e-6\n",
    "    \n",
    "    fig = plt.figure(figsize=(20,10))\n",
    "    ax = fig.add_subplot(111)\n",
    "    # Plot the corresponding dendrogram\n",
    "    ddata = dendrogram(Z, ax=ax, **kwargs) \n",
    "    \n",
    "    # Annotate nodes in the dendrogram\n",
    "    for i, d, c in zip(ddata['icoord'], ddata['dcoord'], ddata['color_list']):\n",
    "        x = 0.5 * sum(i[1:3])\n",
    "        y = d[1]\n",
    "        nid = np.where(Z[:,2] == y)[0][0]\n",
    "        if y > annotate_above:\n",
    "            plt.plot(x, y, 'o', c=c)\n",
    "            plt.annotate(str(nid-Z.shape[0]), (x, y), xytext=(0, -5),\n",
    "                         textcoords='offset points',\n",
    "                         va='top', ha='center')\n",
    "    if kwargs['color_threshold']:\n",
    "        plt.axhline(y=kwargs['color_threshold'], c='k')\n",
    "    \n",
    "    return fig, ax"
   ]
  },
  {
   "cell_type": "markdown",
   "metadata": {},
   "source": [
    "We want now to use standardize data, since Ncodons measurement is not comparable with the frequencies."
   ]
  },
  {
   "cell_type": "code",
   "execution_count": null,
   "metadata": {},
   "outputs": [],
   "source": [
    "X = (X-X.mean())/ X.std()\n",
    "X.head()"
   ]
  },
  {
   "cell_type": "code",
   "execution_count": null,
   "metadata": {},
   "outputs": [],
   "source": [
    "## Dendograms Euclidean Distance\n",
    "methods = ['single', 'average', 'complete','ward', 'centroid']\n",
    "\n",
    "for method in methods:\n",
    "    L = linkage(X, metric='euclidean', method=method)\n",
    "    fig, ax = plot_dendrogram(Z=L, X=X, truncate_mode='lastp', \n",
    "                              p=100, n_clusters=10)\n",
    "\n",
    "    ax.set_title(method)"
   ]
  },
  {
   "cell_type": "markdown",
   "metadata": {},
   "source": [
    "The method that seems to give the best result is the ward.\n",
    "\n",
    "In order to evaluate the goodness of the results, we write some function that calculate the typical indexes for assess GOF of clustering."
   ]
  },
  {
   "cell_type": "markdown",
   "metadata": {},
   "source": [
    "Correlation and similarity martix"
   ]
  },
  {
   "cell_type": "code",
   "execution_count": null,
   "metadata": {},
   "outputs": [],
   "source": [
    "from sklearn.metrics import pairwise_distances\n",
    "from sklearn.preprocessing import normalize\n",
    "\n",
    "def incidence_mat(y_pred):\n",
    "    npoints = y_pred.shape[0]\n",
    "    mat = np.zeros([npoints, npoints])\n",
    "    # Retrieve how many different cluster ids there are\n",
    "    clusters = np.unique(y_pred)\n",
    "    nclusters = clusters.shape[0]\n",
    "    \n",
    "    for i in range(nclusters):\n",
    "        sample_idx = np.where(y_pred == i)\n",
    "        # Compute combinations of these indices\n",
    "        idx = np.meshgrid(sample_idx, sample_idx)\n",
    "        mat[idx[0].reshape(-1), idx[1].reshape(-1)] = 1\n",
    "        \n",
    "    return mat\n",
    "\n",
    "def similarity_mat(X, metric):\n",
    "    dist_mat = pairwise_distances(X, metric=metric)\n",
    "    min_dist, max_dist = dist_mat.min(), dist_mat.max()\n",
    "    \n",
    "    # Normalize distances in [0, 1] and compute the similarity\n",
    "    sim_mat = 1 - (dist_mat - min_dist) / (max_dist - min_dist)\n",
    "    return sim_mat\n",
    "\n",
    "def correlation(X, y_pred, metric):\n",
    "    inc = incidence_mat(y_pred)\n",
    "    sim = similarity_mat(X, metric)\n",
    "    \n",
    "    # Note: we can eventually remove duplicate values\n",
    "    # only the upper/lower triangular matrix\n",
    "    # triuidx = np.triu_indices(y_pred.shape[0], k=1)\n",
    "    # inc = inc[triuidx]\n",
    "    # sim = sim[triuidx]\n",
    "    \n",
    "    inc = normalize(inc.reshape(1, -1))\n",
    "    sim = normalize(sim.reshape(1, -1))\n",
    "    corr = (inc @ sim.T)\n",
    "    return corr[0,0]\n",
    "\n",
    "def sorted_sim(sim, y_pred):\n",
    "    idx_sorted = np.argsort(y_pred)\n",
    "    # Sort the rows\n",
    "    sim = sim[idx_sorted]\n",
    "    # Sort the columns\n",
    "    sim = sim[:, idx_sorted]\n",
    "    \n",
    "    return sim\n",
    "\n",
    "def plot_sorted_mat(sim, y_pred):\n",
    "    sim = sorted_sim(sim, y_pred)\n",
    "    \n",
    "    fig, ax = plt.subplots(figsize=(40,30))  \n",
    "    ax = sns.heatmap(sim, ax=ax)\n",
    "    # Remove ruler (ticks)\n",
    "    ax.set_yticks([]) \n",
    "    ax.set_xticks"
   ]
  },
  {
   "cell_type": "markdown",
   "metadata": {},
   "source": [
    "Internal indexes"
   ]
  },
  {
   "cell_type": "code",
   "execution_count": null,
   "metadata": {},
   "outputs": [],
   "source": [
    "from sklearn.metrics import silhouette_score\n",
    "\n",
    "\n",
    "def wss(X, y_pred, metric):\n",
    "    ncluster = np.unique(y_pred).shape[0]\n",
    "    err = 0\n",
    "    for k in range(ncluster):\n",
    "        # All the points of this cluster\n",
    "        X_k = X[y_pred == k]\n",
    "        # Distances of all points within the cluster\n",
    "        dist_mat = pairwise_distances(X_k, metric=metric)\n",
    "        # Select the lower triangular part of the matrix\n",
    "        triu_idx = np.tril_indices(dist_mat.shape[0], k=1)\n",
    "        err += (dist_mat[triu_idx] ** 2).sum()\n",
    "    \n",
    "    return err\n",
    "\n",
    "def bss(X, y_pred, metric):\n",
    "    ncluster = np.unique(y_pred).shape[0]\n",
    "    # Sort the distance matrix (as we did for the simiarity)\n",
    "    dist_mat = pairwise_distances(X, metric=metric) ** 2\n",
    "    dist_mat = sorted_sim(dist_mat, y_predict)\n",
    "    y_sort = np.sort(y_pred)\n",
    "    \n",
    "    err = 0\n",
    "    for k in range(ncluster):\n",
    "        kidx = np.where(y_sort == k)[0]\n",
    "        start, end = kidx[0], kidx[-1]\n",
    "        err += dist_mat[start:end, end+1:].sum()\n",
    "    \n",
    "    return err"
   ]
  },
  {
   "cell_type": "markdown",
   "metadata": {},
   "source": [
    "External indexes"
   ]
  },
  {
   "cell_type": "code",
   "execution_count": null,
   "metadata": {},
   "outputs": [],
   "source": [
    "def get_Ncounts(y_predict, y_true, k, j=None):\n",
    "    N = y_true.shape[0]\n",
    "    Nk_mask = y_predict == k\n",
    "    Nk = Nk_mask.sum()\n",
    "    Nj, Nkj = None, None\n",
    "    if j is not None:\n",
    "        Nj_mask = y_true == j\n",
    "        Nj = Nj_mask.sum()\n",
    "        Nkj = np.logical_and(Nj_mask, Nk_mask).sum()\n",
    "    return N, Nk, Nj, Nkj\n",
    "\n",
    "def precision(y_predict, y_true, k, j):\n",
    "    N, Nk, Nj, Nkj = get_Ncounts(y_predict, y_true, k, j)\n",
    "    return Nkj / (Nk + 1e-8)\n",
    "    \n",
    "def recall(y_predict, y_true, k, j):\n",
    "    N, Nk, Nj, Nkj = get_Ncounts(y_predict, y_true, k, j)\n",
    "    return Nkj / (Nj + 1e-8)\n",
    "\n",
    "def F(y_predict, y_true, k, j):\n",
    "    p = precision(y_predict, y_true, k, j)\n",
    "    r = recall(y_predict, y_true, k, j)\n",
    "    return (2*p*r) / (p+r)\n",
    "\n",
    "def purity(y_predict, y_true, k):\n",
    "    cls = np.unique(y_true)\n",
    "    prec = [precision(y_predict, y_true, k, j) for j in cls]\n",
    "    return max(prec)\n",
    "\n",
    "def tot_purity(y_predict, y_true):\n",
    "    N = y_true.shape[0]\n",
    "    nc = len(np.unique(y_true))\n",
    "    p = 0\n",
    "    for k in range(nc):\n",
    "        N, Nk, _, _ = get_Ncounts(y_predict, y_true, k)\n",
    "        pk = purity(y_predict, y_true, k)\n",
    "        p += (Nk / N) * pk\n",
    "    return p"
   ]
  },
  {
   "cell_type": "markdown",
   "metadata": {},
   "source": [
    "After defining the indexes, we calculate them for each linkage with euclidian and manhattan distance in order to assert which method is the best."
   ]
  },
  {
   "cell_type": "code",
   "execution_count": null,
   "metadata": {},
   "outputs": [],
   "source": [
    "from sklearn.cluster import AgglomerativeClustering\n",
    "\n",
    "methods = ['single', 'average', 'complete','ward']\n",
    "\n",
    "for method in methods:\n",
    "    hierarchical_model_k = AgglomerativeClustering(n_clusters=10, \n",
    "                                distance_threshold=None, \n",
    "                                affinity='euclidean', linkage=method)\n",
    "    hierarchical_model_t = AgglomerativeClustering(n_clusters=3, \n",
    "                                distance_threshold=None, \n",
    "                                affinity='euclidean', linkage=method)\n",
    "    y_pred_k =  hierarchical_model_k.fit_predict(X) \n",
    "    y_pred_t =  hierarchical_model_t.fit_predict(X)\n",
    "    print(\"METHOD : \", method)\n",
    "    print(\"Purity Kingdom \", tot_purity(y_pred_k, df[\"Kingdom\"]))\n",
    "    print(\"Purity DNA type \", tot_purity(y_pred_t, df[\"DNAtype\"]))\n",
    "    print(\"Avg Silhoutte for Kingdom : \", silhouette_score(X, y_pred_k, metric='euclidean'))\n",
    "    print(\"Avg Silhoutte for DNAtype : \", silhouette_score(X, y_pred_t, metric='euclidean'))\n",
    "    print()"
   ]
  },
  {
   "cell_type": "code",
   "execution_count": null,
   "metadata": {},
   "outputs": [],
   "source": [
    "methods = ['single', 'average', 'complete']\n",
    "\n",
    "for method in methods:\n",
    "    hierarchical_model_k = AgglomerativeClustering(n_clusters=10, \n",
    "                                distance_threshold=None, \n",
    "                                affinity='manhattan', linkage=method)\n",
    "    hierarchical_model_t = AgglomerativeClustering(n_clusters=3, \n",
    "                                distance_threshold=None, \n",
    "                                affinity='manhattan', linkage=method)\n",
    "    y_pred_k =  hierarchical_model_k.fit_predict(X) \n",
    "    y_pred_t =  hierarchical_model_t.fit_predict(X)\n",
    "    print(\"METHOD : \", method)\n",
    "    print(\"Purity Kingdom \", tot_purity(y_pred_k, df[\"Kingdom\"]))\n",
    "    print(\"Purity DNA type \", tot_purity(y_pred_t, df[\"DNAtype\"]))\n",
    "    print(\"Avg Silhoutte for Kingdom : \", silhouette_score(X, y_pred_k, metric='manhattan'))\n",
    "    print(\"Avg Silhoutte for DNAtype : \", silhouette_score(X, y_pred_t, metric='manhattan'))\n",
    "    print()"
   ]
  },
  {
   "cell_type": "markdown",
   "metadata": {},
   "source": [
    "As we can see, it seems that the DNAtype classes can be more easily identified, using those covariates, than the Kingdom classes.\n",
    "\n",
    "We now print the similarity matrix for the best result. The best results  in term of purity are those of euclidian distance with ward linkage, while in term of silouette score is the euclidian average.\n",
    "\n",
    "Since plot the complete similarity matrix is too onerous, we plot the similarity matrix of small dataset, with the clustering calculated on complete dataset. "
   ]
  },
  {
   "cell_type": "code",
   "execution_count": null,
   "metadata": {},
   "outputs": [],
   "source": [
    "sim = similarity_mat(X.iloc[small_df_indexes], 'euclidean')\n",
    "\n",
    "#Kingdom\n",
    "hierarchical_model = AgglomerativeClustering(n_clusters=10, \n",
    "                            distance_threshold=None, \n",
    "                            affinity='euclidean', linkage=\"ward\")\n",
    "y_pred =  hierarchical_model.fit_predict(X)\n",
    "plot_sorted_mat(sim, y_pred[small_df_indexes])\n",
    "\n",
    "#DNAtype\n",
    "hierarchical_model = AgglomerativeClustering(n_clusters=3, \n",
    "                            distance_threshold=None, \n",
    "                            affinity='euclidean', linkage=\"ward\")\n",
    "y_pred =  hierarchical_model.fit_predict(X)\n",
    "plot_sorted_mat(sim, y_pred[small_df_indexes])"
   ]
  },
  {
   "cell_type": "markdown",
   "metadata": {},
   "source": [
    "As we can see the results are not very good so we try with other clustering techniques."
   ]
  },
  {
   "cell_type": "markdown",
   "metadata": {},
   "source": [
    "### Kmeans"
   ]
  },
  {
   "cell_type": "markdown",
   "metadata": {},
   "source": [
    "Now we use Kmeans and Kmeans++ (which is a version ...). We expect that those two algorithms will give us better results than hierarchical clustering, because we have to provide to Kmeans the number of clusters that we want to obtain."
   ]
  },
  {
   "cell_type": "code",
   "execution_count": null,
   "metadata": {},
   "outputs": [],
   "source": [
    "from sklearn.cluster import KMeans\n",
    "\n",
    "# Kmeans\n",
    "model = KMeans(n_clusters=10, init='random', random_state=0)             \n",
    "print(\"Random Kmeans purity for Kingdom: \", tot_purity(model.fit_predict(X), df[\"Kingdom\"]))\n",
    "print(\"Avg Silhoutte Random Kmeans for Kingdom: \", \n",
    "      silhouette_score(X, model.fit_predict(X), metric='euclidean'))\n",
    "print()\n",
    "\n",
    "model = KMeans(n_clusters=3, init='random', random_state=0)             \n",
    "print(\"Random Kmeans purity for DNAtype: \", tot_purity(model.fit_predict(X), df[\"DNAtype\"]))\n",
    "print(\"Avg Silhoutte Random Kmeans for DNAtype: \", \n",
    "      silhouette_score(X, model.fit_predict(X), metric='euclidean'))"
   ]
  },
  {
   "cell_type": "code",
   "execution_count": null,
   "metadata": {},
   "outputs": [],
   "source": [
    "# Kmeans++\n",
    "model = KMeans(n_clusters=10, init='k-means++', random_state=0)             \n",
    "print(\"Random Kmeans purity for Kingdom: \", tot_purity(model.fit_predict(X), df[\"Kingdom\"]))\n",
    "print(\"Avg Silhoutte Random Kmeans for Kingdom: \", \n",
    "      silhouette_score(X, model.fit_predict(X), metric='euclidean'))\n",
    "print()\n",
    "\n",
    "model = KMeans(n_clusters=3, init='k-means++', random_state=0)             \n",
    "print(\"Random Kmeans purity for DNAtype: \", tot_purity(model.fit_predict(X), df[\"DNAtype\"]))\n",
    "print(\"Avg Silhoutte Random Kmeans for DNAtype: \", \n",
    "      silhouette_score(X, model.fit_predict(X), metric='euclidean'))"
   ]
  },
  {
   "cell_type": "code",
   "execution_count": null,
   "metadata": {},
   "outputs": [],
   "source": [
    "# Kmeans with hierarchical clustering to select initial centroids\n",
    "hier_model = AgglomerativeClustering(n_clusters=10, \n",
    "                                distance_threshold=None, \n",
    "                                affinity='euclidean', linkage='ward')\n",
    "\n",
    "y_predict = hier_model.fit_predict(X)\n",
    "centroids = np.stack([X[y_predict == k].mean(0) for k in range(10)])\n",
    "model = KMeans(n_clusters=10, init=centroids, n_init=1, random_state=0)\n",
    "print(\"Hierachical Kmeans purity for Kingdom: \", tot_purity(model.fit_predict(X), df[\"Kingdom\"]))\n",
    "print(\"Avg Silhoutte Hierachical Kmeans for Kingdom: \", \n",
    "      silhouette_score(X, model.fit_predict(X), metric='euclidean'))\n",
    "print()\n",
    "\n",
    "hier_model = AgglomerativeClustering(n_clusters=3, \n",
    "                                distance_threshold=None, \n",
    "                                affinity='euclidean', linkage='ward')\n",
    "\n",
    "y_predict = hier_model.fit_predict(X)          \n",
    "centroids = np.stack([X[y_predict == k].mean(0) for k in range(3)])\n",
    "model = KMeans(n_clusters=3, init=centroids, n_init=1, random_state=0)\n",
    "print(\"Hierachical Kmeans purity for DNAtype: \", tot_purity(model.fit_predict(X), df[\"DNAtype\"]))\n",
    "print(\"Avg Silhoutte Hierachical Kmeans for DNAtype: \", \n",
    "      silhouette_score(X, model.fit_predict(X), metric='euclidean'))\n",
    "print()\n"
   ]
  },
  {
   "cell_type": "markdown",
   "metadata": {},
   "source": [
    "As we expected, the purity for Kmeans and Kmeans++ are greater. We now see the similarity matrix for Kmeans."
   ]
  },
  {
   "cell_type": "code",
   "execution_count": null,
   "metadata": {},
   "outputs": [],
   "source": [
    "model = KMeans(n_clusters=10, init='random', random_state=0)             \n",
    "y_pred = model.fit_predict(X)\n",
    "plot_sorted_mat(sim, y_pred[small_df_indexes])\n",
    "\n",
    "model = KMeans(n_clusters=3, init='random', random_state=0)             \n",
    "y_pred = model.fit_predict(X)\n",
    "plot_sorted_mat(sim, y_pred[small_df_indexes])"
   ]
  },
  {
   "cell_type": "markdown",
   "metadata": {},
   "source": [
    "### DBSCAN"
   ]
  },
  {
   "cell_type": "markdown",
   "metadata": {},
   "source": [
    "DBSCAN is a very powerful algorithm for clustering based on the concept of density and connectivity. Its parameters are radius, called eps, and the number of neighbors (MinPts). By using purity as a metric we can select the combination of these two hyperparameters, in order to maximize the metric.\n",
    "\n",
    "Since this research is very time consuming we use the small dataset"
   ]
  },
  {
   "cell_type": "code",
   "execution_count": null,
   "metadata": {},
   "outputs": [],
   "source": [
    "def make_scorer(metric):\n",
    "    def scorer(estimator, X, y):\n",
    "        y_pred = estimator.fit_predict(X)\n",
    "        return metric(y_pred, y)\n",
    "    return scorer"
   ]
  },
  {
   "cell_type": "code",
   "execution_count": 46,
   "metadata": {},
   "outputs": [],
   "source": [
    "from sklearn.model_selection import GridSearchCV\n",
    "from sklearn.cluster import DBSCAN"
   ]
  },
  {
   "cell_type": "code",
   "execution_count": 7,
   "metadata": {},
   "outputs": [
    {
     "ename": "NameError",
     "evalue": "name 'tot_purity' is not defined",
     "output_type": "error",
     "traceback": [
      "\u001b[0;31m---------------------------------------------------------------------------\u001b[0m",
      "\u001b[0;31mNameError\u001b[0m                                 Traceback (most recent call last)",
      "\u001b[0;32m<ipython-input-7-ddc4abd41845>\u001b[0m in \u001b[0;36m<module>\u001b[0;34m\u001b[0m\n\u001b[1;32m      4\u001b[0m \u001b[0;34m\u001b[0m\u001b[0m\n\u001b[1;32m      5\u001b[0m \u001b[0mparams\u001b[0m \u001b[0;34m=\u001b[0m \u001b[0;34m{\u001b[0m\u001b[0;34m'eps'\u001b[0m\u001b[0;34m:\u001b[0m \u001b[0;34m[\u001b[0m\u001b[0;36m4\u001b[0m\u001b[0;34m,\u001b[0m\u001b[0;36m7\u001b[0m\u001b[0;34m,\u001b[0m\u001b[0;36m10\u001b[0m\u001b[0;34m]\u001b[0m\u001b[0;34m,\u001b[0m \u001b[0;34m'min_samples'\u001b[0m\u001b[0;34m:\u001b[0m \u001b[0;34m[\u001b[0m\u001b[0;36m1\u001b[0m\u001b[0;34m,\u001b[0m\u001b[0;36m3\u001b[0m\u001b[0;34m,\u001b[0m\u001b[0;36m5\u001b[0m\u001b[0;34m]\u001b[0m\u001b[0;34m}\u001b[0m\u001b[0;34m\u001b[0m\u001b[0;34m\u001b[0m\u001b[0m\n\u001b[0;32m----> 6\u001b[0;31m \u001b[0mcv\u001b[0m \u001b[0;34m=\u001b[0m \u001b[0mGridSearchCV\u001b[0m\u001b[0;34m(\u001b[0m\u001b[0mDBSCAN\u001b[0m\u001b[0;34m(\u001b[0m\u001b[0;34m)\u001b[0m\u001b[0;34m,\u001b[0m \u001b[0mparams\u001b[0m\u001b[0;34m,\u001b[0m \u001b[0mscoring\u001b[0m\u001b[0;34m=\u001b[0m\u001b[0mmake_scorer\u001b[0m\u001b[0;34m(\u001b[0m\u001b[0mtot_purity\u001b[0m\u001b[0;34m)\u001b[0m\u001b[0;34m,\u001b[0m \u001b[0mcv\u001b[0m\u001b[0;34m=\u001b[0m\u001b[0;36m3\u001b[0m\u001b[0;34m)\u001b[0m\u001b[0;34m\u001b[0m\u001b[0;34m\u001b[0m\u001b[0m\n\u001b[0m\u001b[1;32m      7\u001b[0m \u001b[0mcv\u001b[0m \u001b[0;34m=\u001b[0m \u001b[0mcv\u001b[0m\u001b[0;34m.\u001b[0m\u001b[0mfit\u001b[0m\u001b[0;34m(\u001b[0m\u001b[0mX\u001b[0m\u001b[0;34m.\u001b[0m\u001b[0miloc\u001b[0m\u001b[0;34m[\u001b[0m\u001b[0msmall_df_indexes\u001b[0m\u001b[0;34m]\u001b[0m\u001b[0;34m,\u001b[0m \u001b[0mdf\u001b[0m\u001b[0;34m[\u001b[0m\u001b[0;34m\"Kingdom\"\u001b[0m\u001b[0;34m]\u001b[0m\u001b[0;34m.\u001b[0m\u001b[0miloc\u001b[0m\u001b[0;34m[\u001b[0m\u001b[0msmall_df_indexes\u001b[0m\u001b[0;34m]\u001b[0m\u001b[0;34m)\u001b[0m\u001b[0;34m\u001b[0m\u001b[0;34m\u001b[0m\u001b[0m\n\u001b[1;32m      8\u001b[0m \u001b[0;34m\u001b[0m\u001b[0m\n",
      "\u001b[0;31mNameError\u001b[0m: name 'tot_purity' is not defined"
     ]
    }
   ],
   "source": [
    "params = {'eps': [4,7,10], 'min_samples': [1,3,5]}\n",
    "cv = GridSearchCV(DBSCAN(), params, scoring=make_scorer(tot_purity), cv=3)\n",
    "cv = cv.fit(X.iloc[small_df_indexes], df[\"Kingdom\"].iloc[small_df_indexes])\n",
    "\n",
    "print(cv.best_params_)\n",
    "print(\"CV score\",\n",
    "      tot_purity(cv.best_estimator_.fit_predict(X.iloc[small_df_indexes]), df[\"Kingdom\"].iloc[small_df_indexes]))\n",
    "\n",
    "print(\"Number of outliers\", (cv.best_estimator_.fit_predict(X.iloc[small_df_indexes]) == -1).sum())\n",
    "ids, counts = np.unique(cv.best_estimator_.fit_predict(X.iloc[small_df_indexes]), return_counts=True)\n",
    "print(pd.DataFrame(counts.reshape(1,-1), columns=ids, index=['']))"
   ]
  },
  {
   "cell_type": "markdown",
   "metadata": {},
   "source": [
    "As we can see there are some points classified as noise and the algorithm found 7 cluster which is a middle ground between the number of DNAtypes and the number of Kingdoms, so it isn't informative."
   ]
  },
  {
   "cell_type": "markdown",
   "metadata": {},
   "source": [
    "### Kmeans with dimensionality reduction"
   ]
  },
  {
   "cell_type": "markdown",
   "metadata": {},
   "source": [
    "Since we saw that Kmeans and Kmeans++ are the methods that work better, we try to use some dimensionality reduction techniques before apply those two methods, in order to check if using less features can increase clustering results."
   ]
  },
  {
   "cell_type": "markdown",
   "metadata": {},
   "source": [
    "#### PCA"
   ]
  },
  {
   "cell_type": "markdown",
   "metadata": {},
   "source": [
    "PCA transforms the features into a new set of features orthogonal to each other, so that the first features capture the most variability of the data. Then we select the k most significant features and run Kmeans only with them."
   ]
  },
  {
   "cell_type": "code",
   "execution_count": null,
   "metadata": {},
   "outputs": [],
   "source": [
    "from sklearn.decomposition import PCA\n",
    "pca = PCA()\n",
    "X_pca = pca.fit(X)\n",
    "X_prj = pca.fit_transform(X)\n",
    "fig=plt.figure(figsize=(20,3))\n",
    "plt.scatter(x=np.arange(1,66),y=X_pca.explained_variance_ratio_,cmap=\"magma\",c=np.arange(1,66))\n",
    "plt.grid()\n",
    "plt.xlabel(\"principal components\")\n",
    "plt.ylabel(\"explained variance ratio\")"
   ]
  },
  {
   "cell_type": "markdown",
   "metadata": {},
   "source": [
    "As we can see the elbow in the elbow plot is around 3 and 4, and most of variance can be explained by the first 10 features. However, in order to not cut off too much of the variance, we will use the first 15 features."
   ]
  },
  {
   "cell_type": "code",
   "execution_count": null,
   "metadata": {},
   "outputs": [],
   "source": [
    "keep=15\n",
    "\n",
    "# Kmeans\n",
    "model = KMeans(n_clusters=10, init='random', random_state=0) \n",
    "y_predict_kpca = model.fit_predict(X_prj[:,0:keep])\n",
    "print(\"KINGDOM\")\n",
    "print(\"Kmeans purity on 15 PCs:\", tot_purity(y_predict_kpca, df[\"Kingdom\"]))\n",
    "print(\"Avg Silhoutte Random Kmeans on 15 PCs: \",\n",
    "      silhouette_score(X_prj[:,0:keep], y_predict_kpca, metric='euclidean'))\n",
    "\n",
    "model = KMeans(n_clusters=3, init='random', random_state=0) \n",
    "y_predict_kpca = model.fit_predict(X_prj[:,0:keep])\n",
    "print(\"DNATYPE\")\n",
    "print(\"Kmeans purity on 15 PCs:\", tot_purity(y_predict_kpca, df[\"DNAtype\"]))\n",
    "print(\"Avg Silhoutte Random Kmeans on 15 PCs: \",\n",
    "      silhouette_score(X_prj[:,0:keep], y_predict_kpca, metric='euclidean'))"
   ]
  },
  {
   "cell_type": "code",
   "execution_count": null,
   "metadata": {},
   "outputs": [],
   "source": [
    "# Kmeans++\n",
    "model = KMeans(n_clusters=10, init='k-means++', random_state=0) \n",
    "y_predict_kpca = model.fit_predict(X_prj[:,0:keep])\n",
    "print(\"KINGDOM\")\n",
    "print(\"Kmeans++ purity on 15 PCs:\", tot_purity(y_predict_kpca, df[\"Kingdom\"]))\n",
    "print(\"Avg Silhoutte Kmeans++ on 15 PCs: \",\n",
    "      silhouette_score(X_prj[:,0:keep], y_predict_kpca, metric='euclidean'))\n",
    "print()\n",
    "\n",
    "model = KMeans(n_clusters=3, init='k-means++', random_state=0) \n",
    "y_predict_kpca = model.fit_predict(X_prj[:,0:keep])\n",
    "print(\"DNATYPE\")\n",
    "print(\"Kmeans++ purity on 15 PCs:\", tot_purity(y_predict_kpca, df[\"DNAtype\"]))\n",
    "print(\"Avg Silhoutte Kmeans++ on 15 PCs: \",\n",
    "      silhouette_score(X_prj[:,0:keep], y_predict_kpca, metric='euclidean'))"
   ]
  },
  {
   "cell_type": "code",
   "execution_count": null,
   "metadata": {},
   "outputs": [],
   "source": [
    "# Kmeans + hierarchical clustering\n",
    "hier_model = AgglomerativeClustering(n_clusters=10, \n",
    "                                distance_threshold=None, \n",
    "                                affinity='euclidean', linkage='ward')\n",
    "\n",
    "y_predict = hier_model.fit_predict(X_prj[:,0:keep])\n",
    "centroids = np.stack([X_prj[y_predict == k, 0:keep].mean(0) for k in range(10)])\n",
    "model = KMeans(n_clusters=10, init=centroids, n_init=1, random_state=0)\n",
    "print(\"Hierachical Kmeans purity for Kingdom: \", tot_purity(model.fit_predict(X_prj[:,0:keep]), df[\"Kingdom\"]))\n",
    "print(\"Avg Silhoutte Hierachical Kmeans for Kingdom: \", \n",
    "      silhouette_score(X_prj[:,0:keep], model.fit_predict(X_prj[:,0:keep]), metric='euclidean'))\n",
    "print()\n",
    "\n",
    "hier_model = AgglomerativeClustering(n_clusters=3, \n",
    "                                distance_threshold=None, \n",
    "                                affinity='euclidean', linkage='ward')\n",
    "\n",
    "y_predict = hier_model.fit_predict(X_prj[:,0:keep])          \n",
    "centroids = np.stack([X_prj[y_predict == k, 0:keep].mean(0) for k in range(3)])\n",
    "model = KMeans(n_clusters=3, init=centroids, n_init=1, random_state=0)\n",
    "print(\"Hierachical Kmeans purity for DNAtype: \", tot_purity(model.fit_predict(X_prj[:,0:keep]), df[\"DNAtype\"]))\n",
    "print(\"Avg Silhoutte Hierachical Kmeans for DNAtype: \", \n",
    "      silhouette_score(X_prj[:,0:keep], model.fit_predict(X_prj[:,0:keep]), metric='euclidean'))\n",
    "print()\n"
   ]
  },
  {
   "cell_type": "markdown",
   "metadata": {},
   "source": [
    "At the moment, it seems that using only 15 principal component with Kmeans++ is the best choice."
   ]
  },
  {
   "cell_type": "code",
   "execution_count": null,
   "metadata": {},
   "outputs": [],
   "source": [
    "model = KMeans(n_clusters=10, init='k-means++', random_state=0) \n",
    "y_predict_kpca = model.fit_predict(X_prj[:,0:keep])\n",
    "plot_sorted_mat(sim, y_predict_kpca[small_df_indexes])\n",
    "model = KMeans(n_clusters=3, init='k-means++', random_state=0) \n",
    "y_predict_kpca = model.fit_predict(X_prj[:,0:keep])\n",
    "plot_sorted_mat(sim, y_predict_kpca[small_df_indexes])"
   ]
  },
  {
   "cell_type": "markdown",
   "metadata": {},
   "source": [
    "#### Remove least significative correlated features"
   ]
  },
  {
   "cell_type": "code",
   "execution_count": null,
   "metadata": {},
   "outputs": [],
   "source": [
    "X_less = X.drop(less_imp_corr_covs, axis = 1)"
   ]
  },
  {
   "cell_type": "code",
   "execution_count": null,
   "metadata": {},
   "outputs": [],
   "source": [
    "# Kmeans\n",
    "model = KMeans(n_clusters=10, init='random', random_state=0)\n",
    "print(\"KINGDOM\")\n",
    "print(\"Hierachical Kmeans purity for Kingdom: \", tot_purity(model.fit_predict(X_less), df[\"Kingdom\"]))\n",
    "print(\"Avg Silhoutte Hierachical Kmeans for Kingdom: \", \n",
    "      silhouette_score(X_less, model.fit_predict(X_less), metric='euclidean'))\n",
    "print()\n",
    "model = KMeans(n_clusters=3, init='random', random_state=0)\n",
    "print(\"DNATYPE\")\n",
    "print(\"Hierachical Kmeans purity for DNAtype: \", tot_purity(model.fit_predict(X_less), df[\"DNAtype\"]))\n",
    "print(\"Avg Silhoutte Hierachical Kmeans for DNAtype: \", \n",
    "      silhouette_score(X_less, model.fit_predict(X_less), metric='euclidean'))"
   ]
  },
  {
   "cell_type": "code",
   "execution_count": null,
   "metadata": {},
   "outputs": [],
   "source": [
    "# Kmeans++\n",
    "model = KMeans(n_clusters=10, init='k-means++', random_state=0)  \n",
    "print(\"KINGDOM\")\n",
    "print(\"Hierachical Kmeans purity for Kingdom: \", tot_purity(model.fit_predict(X_less), df[\"Kingdom\"]))\n",
    "print(\"Avg Silhoutte Hierachical Kmeans for Kingdom: \", \n",
    "      silhouette_score(X_less, model.fit_predict(X_less), metric='euclidean'))\n",
    "print()\n",
    "model = KMeans(n_clusters=3, init='k-means++', random_state=0) \n",
    "print(\"DNATYPE\")\n",
    "print(\"Hierachical Kmeans purity for DNAtype: \", tot_purity(model.fit_predict(X_less), df[\"DNAtype\"]))\n",
    "print(\"Avg Silhoutte Hierachical Kmeans for DNAtype: \", \n",
    "      silhouette_score(X_less, model.fit_predict(X_less), metric='euclidean'))"
   ]
  },
  {
   "cell_type": "code",
   "execution_count": null,
   "metadata": {},
   "outputs": [],
   "source": [
    "# Kmeans + hierarchical clustering\n",
    "hier_model = AgglomerativeClustering(n_clusters=10, \n",
    "                                distance_threshold=None, \n",
    "                                affinity='euclidean', linkage='ward')\n",
    "\n",
    "y_predict = hier_model.fit_predict(X_less)\n",
    "centroids = np.stack([X_less[y_predict == k].mean(0) for k in range(10)])\n",
    "model = KMeans(n_clusters=10, init=centroids, n_init=1, random_state=0)\n",
    "print(\"KINGDOM\")\n",
    "print(\"Hierachical Kmeans purity for Kingdom: \", tot_purity(model.fit_predict(X_less), df[\"Kingdom\"]))\n",
    "print(\"Avg Silhoutte Hierachical Kmeans for Kingdom: \", \n",
    "      silhouette_score(X_less, model.fit_predict(X_less), metric='euclidean'))\n",
    "print()\n",
    "\n",
    "hier_model = AgglomerativeClustering(n_clusters=3, \n",
    "                                distance_threshold=None, \n",
    "                                affinity='euclidean', linkage='ward')\n",
    "\n",
    "y_predict = hier_model.fit_predict(X_less)          \n",
    "centroids = np.stack([X_less[y_predict == k].mean(0) for k in range(3)])\n",
    "model = KMeans(n_clusters=3, init=centroids, n_init=1, random_state=0)\n",
    "print(\"DNATYPE\")\n",
    "print(\"Hierachical Kmeans purity for DNAtype: \", tot_purity(model.fit_predict(X_less), df[\"DNAtype\"]))\n",
    "print(\"Avg Silhoutte Hierachical Kmeans for DNAtype: \", \n",
    "      silhouette_score(X_less, model.fit_predict(X_less), metric='euclidean'))"
   ]
  },
  {
   "cell_type": "markdown",
   "metadata": {},
   "source": [
    "The best result of these are given by Kmeans++."
   ]
  },
  {
   "cell_type": "code",
   "execution_count": null,
   "metadata": {
    "scrolled": true
   },
   "outputs": [],
   "source": [
    "model = KMeans(n_clusters=10, init='k-means++', random_state=0) \n",
    "y_predict_kpca = model.fit_predict(X_less)\n",
    "plot_sorted_mat(sim, y_predict_kpca[small_df_indexes])\n",
    "model = KMeans(n_clusters=3, init='k-means++', random_state=0) \n",
    "y_predict_kpca = model.fit_predict(X_less)\n",
    "plot_sorted_mat(sim, y_predict_kpca[small_df_indexes])"
   ]
  },
  {
   "cell_type": "markdown",
   "metadata": {},
   "source": [
    "### Conclusion"
   ]
  },
  {
   "cell_type": "markdown",
   "metadata": {},
   "source": [
    "In terms of silhoutte, the best results are from Kmeans(++) with PCA, while in term of purity Kmeans(++) without the less important covariates found in the initial analysis. As we can see it seems that these covariates can be more useful to find the DNAtype respect to find the Kingdom.\n",
    "\n",
    "However has we can see from the similarity matrixes these results are not particularly good."
   ]
  },
  {
   "cell_type": "markdown",
   "metadata": {},
   "source": [
    "## Classification"
   ]
  },
  {
   "cell_type": "markdown",
   "metadata": {},
   "source": [
    "We want to train a classificator in order to classify organisms into the 11 Kingdom classes. Since the request is to classify all the 11 Kingdom, we use the full dataset give at the start because we have to classify even the Kingdom with very few samples.\n",
    "\n",
    "Since the features AGA and ACA are not present in test dataset, we remove them from train dataset."
   ]
  },
  {
   "cell_type": "code",
   "execution_count": 21,
   "metadata": {},
   "outputs": [],
   "source": [
    "df = pd.read_csv(\"train.csv\")\n",
    "df.drop('Unnamed: 0', inplace=True, axis=1)\n",
    "df.drop(\"SpeciesID\", inplace=True, axis=1)\n",
    "df.drop(\"SpeciesName\", inplace=True, axis=1)\n",
    "df.drop(\"AGA\", inplace=True, axis=1)\n",
    "df.drop(\"ACA\", inplace=True, axis=1)\n",
    "\n",
    "df_test = pd.read_csv(\"test.csv\")\n",
    "df_test.drop('Unnamed: 0', inplace=True, axis=1)\n",
    "df_test.drop(\"SpeciesID\", inplace=True, axis=1)\n",
    "df_test.drop(\"SpeciesName\", inplace=True, axis=1)\n",
    "X_test = df_test.drop([\"Kingdom\", \"DNAtype\"], axis = 1)\n",
    "y_test = df_test[\"Kingdom\"]\n",
    "\n",
    "X_train = df.drop([\"Kingdom\", \"DNAtype\"], axis = 1)\n",
    "y_train = df[\"Kingdom\"]"
   ]
  },
  {
   "cell_type": "markdown",
   "metadata": {},
   "source": [
    "We create a smaller dataset, as we did with the preliminary analysis, but this time we do not exclude samples of classes of DNAtype with few samples."
   ]
  },
  {
   "cell_type": "code",
   "execution_count": 4,
   "metadata": {},
   "outputs": [
    {
     "data": {
      "text/plain": [
       "array([    0,     3,     4, ..., 10418, 10419, 10421])"
      ]
     },
     "execution_count": 4,
     "metadata": {},
     "output_type": "execute_result"
    }
   ],
   "source": [
    "fraction = 0.5\n",
    "small_df_indexes = []\n",
    "seed = 444\n",
    "for kingdom in df[\"Kingdom\"].unique() :\n",
    "    np.random.seed(seed)\n",
    "    seed = seed + 1\n",
    "    small_df_indexes.extend(\n",
    "        np.random.choice(df[df[\"Kingdom\"] == kingdom].index.values,\n",
    "                         size = int(round(df[df[\"Kingdom\"] == kingdom].index.values.size * fraction)), \n",
    "                         replace = False))\n",
    "small_df_indexes = np.sort(np.array(small_df_indexes))\n",
    "small_df_indexes"
   ]
  },
  {
   "cell_type": "markdown",
   "metadata": {},
   "source": [
    "### Logistic regression"
   ]
  },
  {
   "cell_type": "markdown",
   "metadata": {},
   "source": [
    "The first type of classificator that we try is the logistic regression. First of all we train a logistic regression with all the variables and calculate the performance with 5 fold cross validation, than we will continue using feature selection and shrinkage methods."
   ]
  },
  {
   "cell_type": "code",
   "execution_count": 5,
   "metadata": {},
   "outputs": [],
   "source": [
    "def accuracy(y_pred, y_true):\n",
    "    return (y_pred == y_true).sum() / y_pred.shape[0]"
   ]
  },
  {
   "cell_type": "code",
   "execution_count": 30,
   "metadata": {},
   "outputs": [],
   "source": [
    "from sklearn.linear_model import LogisticRegression, LinearRegression\n",
    "from sklearn.model_selection import cross_val_score\n",
    "from sklearn.metrics import make_scorer"
   ]
  },
  {
   "cell_type": "code",
   "execution_count": 5,
   "metadata": {},
   "outputs": [
    {
     "name": "stderr",
     "output_type": "stream",
     "text": [
      "/home/davide/anaconda3/lib/python3.8/site-packages/scipy/optimize/linesearch.py:477: LineSearchWarning: The line search algorithm did not converge\n",
      "  warn('The line search algorithm did not converge', LineSearchWarning)\n",
      "/home/davide/anaconda3/lib/python3.8/site-packages/scipy/optimize/linesearch.py:327: LineSearchWarning: The line search algorithm did not converge\n",
      "  warn('The line search algorithm did not converge', LineSearchWarning)\n",
      "/home/davide/anaconda3/lib/python3.8/site-packages/sklearn/utils/optimize.py:204: UserWarning: Line Search failed\n",
      "  warnings.warn('Line Search failed')\n"
     ]
    },
    {
     "data": {
      "text/plain": [
       "LogisticRegression(max_iter=2000, penalty='none', solver='newton-cg')"
      ]
     },
     "execution_count": 5,
     "metadata": {},
     "output_type": "execute_result"
    },
    {
     "name": "stdout",
     "output_type": "stream",
     "text": [
      "Train accuracy: 0.852975047984645\n",
      "CV accuracy:  0.7675623800383878\n"
     ]
    }
   ],
   "source": [
    "model = LogisticRegression(solver=\"newton-cg\",penalty = \"none\", max_iter = 2000)\n",
    "model.fit(X_train.iloc[small_df_indexes], y_train[small_df_indexes])\n",
    "\n",
    "cv_newton = cross_val_score(model,\n",
    "                            X_train.iloc[small_df_indexes], y_train[small_df_indexes],\n",
    "                            scoring=make_scorer(accuracy), cv=5, n_jobs=-1)\n",
    "print(\"Train accuracy:\", accuracy(y_train[small_df_indexes], model.predict(X_train.iloc[small_df_indexes])))\n",
    "print(\"CV accuracy: \",np.mean(cv_newton))"
   ]
  },
  {
   "cell_type": "markdown",
   "metadata": {},
   "source": [
    "We can see that the CV accuracy is lower than Train accuracy. We can try to increase CV accuracy by reducing the model variance. In order to do that we can increase the number of samples used to fit the model (but my laptop doesn't allow this) and try to use feature selection or shrinkage methods."
   ]
  },
  {
   "cell_type": "markdown",
   "metadata": {},
   "source": [
    "#### Lasso Logistic Regression"
   ]
  },
  {
   "cell_type": "code",
   "execution_count": 7,
   "metadata": {},
   "outputs": [],
   "source": [
    "from sklearn.pipeline import Pipeline\n",
    "from sklearn import preprocessing"
   ]
  },
  {
   "cell_type": "code",
   "execution_count": 8,
   "metadata": {},
   "outputs": [
    {
     "data": {
      "text/plain": [
       "GridSearchCV(cv=5,\n",
       "             estimator=Pipeline(steps=[('scaler', StandardScaler()),\n",
       "                                       ('classifier',\n",
       "                                        LogisticRegression(max_iter=4000,\n",
       "                                                           penalty='l1',\n",
       "                                                           solver='saga'))]),\n",
       "             n_jobs=-1,\n",
       "             param_grid={'classifier__C': array([0.1, 0.2, 0.3, 0.4, 0.5, 0.6, 0.7, 0.8, 0.9, 1. , 1.1, 1.2, 1.3,\n",
       "       1.4, 1.5])},\n",
       "             scoring=make_scorer(accuracy), verbose=False)"
      ]
     },
     "execution_count": 8,
     "metadata": {},
     "output_type": "execute_result"
    },
    {
     "name": "stdout",
     "output_type": "stream",
     "text": [
      "Done!\n"
     ]
    }
   ],
   "source": [
    "C2=np.arange(0.1, 2, 0.25)\n",
    "model=Pipeline([('scaler',preprocessing.StandardScaler()), \n",
    "               ('classifier',LogisticRegression(solver='saga', penalty='l1',max_iter=4000))])\n",
    "\n",
    "params = {'classifier__C': C2}\n",
    "cv = GridSearchCV(model, params, refit=True, cv=5, n_jobs=-1,\n",
    "                  verbose=False,\n",
    "                  scoring=make_scorer(accuracy))\n",
    "cv.fit(X_train.iloc[small_df_indexes], y_train[small_df_indexes])\n",
    "print(\"Done!\")"
   ]
  },
  {
   "cell_type": "code",
   "execution_count": 10,
   "metadata": {},
   "outputs": [
    {
     "data": {
      "text/plain": [
       "[<matplotlib.lines.Line2D at 0x7f09a16797c0>]"
      ]
     },
     "execution_count": 10,
     "metadata": {},
     "output_type": "execute_result"
    },
    {
     "data": {
      "text/plain": [
       "[<matplotlib.lines.Line2D at 0x7f09a1679d00>]"
      ]
     },
     "execution_count": 10,
     "metadata": {},
     "output_type": "execute_result"
    },
    {
     "data": {
      "text/plain": [
       "Text(0.5, 0, 'C parameter')"
      ]
     },
     "execution_count": 10,
     "metadata": {},
     "output_type": "execute_result"
    },
    {
     "data": {
      "text/plain": [
       "Text(0, 0.5, 'CV accuracy')"
      ]
     },
     "execution_count": 10,
     "metadata": {},
     "output_type": "execute_result"
    },
    {
     "name": "stdout",
     "output_type": "stream",
     "text": [
      "The best parameters are: {'classifier__C': 1.4000000000000001}\n",
      "The CV score of this model is: 0.8174664107485604\n"
     ]
    },
    {
     "data": {
      "image/png": "[encoded data removed]",
      "text/plain": [
       "<Figure size 432x288 with 1 Axes>"
      ]
     },
     "metadata": {
      "needs_background": "light"
     },
     "output_type": "display_data"
    }
   ],
   "source": [
    "from matplotlib.ticker import (AutoMinorLocator, MultipleLocator)\n",
    "\n",
    "fig=plt.figure()\n",
    "ax = fig.gca()\n",
    "plt.plot(C2,cv.cv_results_[\"mean_test_score\"])\n",
    "ax.xaxis.set_major_locator(MultipleLocator(0.1))\n",
    "plt.grid()\n",
    "plt.plot(cv.best_params_[\"classifier__C\"],cv.best_score_,marker=\"X\",markersize=8)\n",
    "plt.xlabel(\"C parameter\")\n",
    "plt.ylabel(\"CV accuracy\")\n",
    "print(\"The best parameters are:\",cv.best_params_)\n",
    "print(\"The CV score of this model is:\",cv.best_score_)"
   ]
  },
  {
   "cell_type": "code",
   "execution_count": 11,
   "metadata": {},
   "outputs": [
    {
     "data": {
      "text/plain": [
       "Pipeline(steps=[('scaler', StandardScaler()),\n",
       "                ('classifier',\n",
       "                 LogisticRegression(C=1.4, max_iter=4000, penalty='l1',\n",
       "                                    solver='saga'))])"
      ]
     },
     "execution_count": 11,
     "metadata": {},
     "output_type": "execute_result"
    },
    {
     "name": "stdout",
     "output_type": "stream",
     "text": [
      "Train accuracy: 0.852975047984645\n",
      "CV accuracy:  0.8174664107485604\n"
     ]
    }
   ],
   "source": [
    "model_l1 = Pipeline([('scaler',preprocessing.StandardScaler()), \n",
    "               ('classifier',LogisticRegression(solver='saga', penalty='l1',C=1.4,max_iter=4000))])\n",
    "model_l1.fit(X_train.iloc[small_df_indexes], y_train[small_df_indexes])\n",
    "print(\"Train accuracy:\", accuracy(y_train[small_df_indexes], model_l1.predict(X_train.iloc[small_df_indexes])))\n",
    "cv_lasso = cross_val_score(model_l1, X_train.iloc[small_df_indexes], y_train[small_df_indexes], scoring=make_scorer(accuracy), cv=5, n_jobs=-1)\n",
    "print(\"CV accuracy: \",np.mean(cv_lasso))"
   ]
  },
  {
   "cell_type": "code",
   "execution_count": 30,
   "metadata": {},
   "outputs": [
    {
     "data": {
      "text/plain": [
       "array([ 0.0927352 ,  0.50418519, -0.94537762,  0.        ,  0.4230076 ,\n",
       "       -0.02925139,  0.67068708, -0.98076078,  0.19585349, -0.45100859,\n",
       "        0.91016482,  0.28275812, -0.44325668,  0.6316734 , -0.06017766,\n",
       "        0.26373518, -0.09975617,  0.56852215,  0.        ,  0.31295042,\n",
       "        0.95581202,  0.07850542, -0.3611781 , -0.65135422,  0.88554726,\n",
       "        0.37864194,  0.43453209,  1.48153494,  0.41384833, -0.12663399,\n",
       "        0.25216565, -0.74496588, -0.03545022,  0.06997819,  0.13554268,\n",
       "       -0.30635769, -0.70517996,  0.55846415,  0.34128875, -0.22042426,\n",
       "       -0.42431439,  1.17242837, -0.67313067,  0.42673751,  0.28164039,\n",
       "       -0.9343847 , -1.2268743 ,  0.        , -0.01201604,  0.44922073,\n",
       "        0.63221577,  0.80248974,  0.56309468, -1.07018504,  0.66123376,\n",
       "        0.02686129,  0.68016782,  0.46633486,  0.        , -0.05840908,\n",
       "        0.49577662,  0.37191484, -0.58697397])"
      ]
     },
     "execution_count": 30,
     "metadata": {},
     "output_type": "execute_result"
    }
   ],
   "source": [
    "model_l1.named_steps[\"classifier\"].coef_[1]"
   ]
  },
  {
   "cell_type": "markdown",
   "metadata": {},
   "source": [
    "#### Ridge Logistic Regression"
   ]
  },
  {
   "cell_type": "code",
   "execution_count": 15,
   "metadata": {},
   "outputs": [
    {
     "data": {
      "text/plain": [
       "GridSearchCV(cv=5,\n",
       "             estimator=Pipeline(steps=[('scaler', StandardScaler()),\n",
       "                                       ('classifier',\n",
       "                                        LogisticRegression(max_iter=4000,\n",
       "                                                           solver='saga'))]),\n",
       "             n_jobs=-1,\n",
       "             param_grid={'classifier__C': array([0.01, 0.31, 0.61, 0.91, 1.21, 1.51, 1.81])},\n",
       "             scoring=make_scorer(accuracy), verbose=False)"
      ]
     },
     "execution_count": 15,
     "metadata": {},
     "output_type": "execute_result"
    },
    {
     "name": "stdout",
     "output_type": "stream",
     "text": [
      "Done!\n"
     ]
    }
   ],
   "source": [
    "C2=np.arange(0.01, 2, 0.3)\n",
    "model=Pipeline([('scaler',preprocessing.StandardScaler()), \n",
    "               ('classifier',LogisticRegression(solver='saga', penalty='l2',max_iter=4000))])\n",
    "\n",
    "params = {'classifier__C': C2}\n",
    "cv = GridSearchCV(model, params, refit=True, cv=5, n_jobs=-1,\n",
    "                  verbose=False,\n",
    "                  scoring=make_scorer(accuracy))\n",
    "cv.fit(X_train.iloc[small_df_indexes], y_train[small_df_indexes])"
   ]
  },
  {
   "cell_type": "code",
   "execution_count": 16,
   "metadata": {},
   "outputs": [
    {
     "data": {
      "text/plain": [
       "[<matplotlib.lines.Line2D at 0x7f09a158f0d0>]"
      ]
     },
     "execution_count": 16,
     "metadata": {},
     "output_type": "execute_result"
    },
    {
     "data": {
      "text/plain": [
       "[<matplotlib.lines.Line2D at 0x7f09a158f520>]"
      ]
     },
     "execution_count": 16,
     "metadata": {},
     "output_type": "execute_result"
    },
    {
     "data": {
      "text/plain": [
       "Text(0.5, 0, 'C parameter')"
      ]
     },
     "execution_count": 16,
     "metadata": {},
     "output_type": "execute_result"
    },
    {
     "data": {
      "text/plain": [
       "Text(0, 0.5, 'CV accuracy')"
      ]
     },
     "execution_count": 16,
     "metadata": {},
     "output_type": "execute_result"
    },
    {
     "name": "stdout",
     "output_type": "stream",
     "text": [
      "The best parameters are: {'classifier__C': 0.9099999999999999}\n",
      "The CV score of this model is: 0.8203454894433782\n"
     ]
    },
    {
     "data": {
      "image/png": "[encoded data removed]",
      "text/plain": [
       "<Figure size 432x288 with 1 Axes>"
      ]
     },
     "metadata": {
      "needs_background": "light"
     },
     "output_type": "display_data"
    }
   ],
   "source": [
    "fig=plt.figure()\n",
    "ax = fig.gca()\n",
    "plt.plot(C2,cv.cv_results_[\"mean_test_score\"])\n",
    "#ax.xaxis.set_major_locator(MultipleLocator(0.1))\n",
    "plt.grid()\n",
    "plt.plot(cv.best_params_[\"classifier__C\"],cv.best_score_,marker=\"X\",markersize=8)\n",
    "plt.xlabel(\"C parameter\")\n",
    "plt.ylabel(\"CV accuracy\")\n",
    "print(\"The best parameters are:\",cv.best_params_)\n",
    "print(\"The CV score of this model is:\",cv.best_score_)"
   ]
  },
  {
   "cell_type": "code",
   "execution_count": 17,
   "metadata": {},
   "outputs": [
    {
     "data": {
      "text/plain": [
       "Pipeline(steps=[('scaler', StandardScaler()),\n",
       "                ('classifier',\n",
       "                 LogisticRegression(C=0.91, max_iter=4000, solver='saga'))])"
      ]
     },
     "execution_count": 17,
     "metadata": {},
     "output_type": "execute_result"
    },
    {
     "name": "stdout",
     "output_type": "stream",
     "text": [
      "Train accuracy: 0.8522072936660269\n",
      "CV accuracy:  0.8203454894433782\n"
     ]
    }
   ],
   "source": [
    "model_l2 = Pipeline([('scaler',preprocessing.StandardScaler()), \n",
    "               ('classifier',LogisticRegression(solver='saga', penalty='l2',C=0.91,max_iter=4000))])\n",
    "\n",
    "model_l2.fit(X_train.iloc[small_df_indexes],y_train[small_df_indexes])\n",
    "print(\"Train accuracy:\", accuracy(y_train[small_df_indexes], model_l2.predict(X_train.iloc[small_df_indexes])))\n",
    "cv_ridge = cross_val_score(model_l2, X_train.iloc[small_df_indexes], y_train[small_df_indexes], scoring=make_scorer(accuracy), cv=5, n_jobs=-1)\n",
    "print(\"CV accuracy: \",np.mean(cv_ridge))"
   ]
  },
  {
   "cell_type": "code",
   "execution_count": 31,
   "metadata": {},
   "outputs": [
    {
     "data": {
      "text/plain": [
       "array([ 0.18162059,  0.47227276, -0.90245305,  0.00615041,  0.48909032,\n",
       "        0.17076142,  0.56721946, -0.79767897,  0.36600223, -0.36759571,\n",
       "        0.87497277,  0.29731815, -0.31552354,  0.54557424, -0.25882125,\n",
       "        0.37152086, -0.34817202,  0.44653666,  0.12982019,  0.3506273 ,\n",
       "        0.93073962,  0.07701815, -0.38909955, -0.53119345,  0.89078714,\n",
       "        0.3155088 ,  0.47347925,  1.53589492,  0.51922545, -0.1531033 ,\n",
       "        0.23385087, -0.67308307, -0.14759775,  0.07948218,  0.11659786,\n",
       "       -0.30362705, -0.77339001,  0.52297321,  0.37517524, -0.14786247,\n",
       "       -0.40201177,  1.07643658, -0.59307905,  0.42043666,  0.36761826,\n",
       "       -0.91433355, -1.05681333, -0.03724924, -0.01989565,  0.43479231,\n",
       "        0.38341292,  0.70510049,  0.50502866, -0.90447004,  0.58341568,\n",
       "       -0.05309509,  0.73892178,  0.48779168, -0.0083108 , -0.14466856,\n",
       "        0.36093759,  0.40819147, -0.42835552])"
      ]
     },
     "execution_count": 31,
     "metadata": {},
     "output_type": "execute_result"
    }
   ],
   "source": [
    "model_l2.named_steps[\"classifier\"].coef_[1]"
   ]
  },
  {
   "cell_type": "code",
   "execution_count": 35,
   "metadata": {},
   "outputs": [
    {
     "data": {
      "text/plain": [
       "array([ 0.48940148, -0.06757203, -0.04756433,  1.        ,  0.13511353,\n",
       "        1.17129974, -0.18241198, -0.22951816,  0.46488443, -0.22691474,\n",
       "       -0.04022074,  0.0489712 , -0.4048292 , -0.15781384,  0.76749337,\n",
       "        0.29012012,  0.71348596, -0.27318136,  1.        ,  0.10745563,\n",
       "       -0.02693815, -0.01931066,  0.07175915, -0.22620905,  0.00588229,\n",
       "       -0.20009947,  0.08225738,  0.03539303,  0.20295061,  0.17288531,\n",
       "       -0.07831822, -0.10679634,  0.75981869,  0.11957388, -0.16247997,\n",
       "       -0.0089934 ,  0.08819619, -0.06786378,  0.09032175, -0.49073835,\n",
       "       -0.05547754, -0.08917552, -0.13497632, -0.01498644,  0.23387813,\n",
       "       -0.0219298 , -0.16091864,  1.        ,  0.39604682, -0.03318462,\n",
       "       -0.64891622, -0.13812109, -0.1149757 , -0.18321779, -0.13338359,\n",
       "        1.50590901,  0.0795131 ,  0.04398767,  1.        ,  0.59625586,\n",
       "       -0.37357989,  0.08887161, -0.37029626])"
      ]
     },
     "execution_count": 35,
     "metadata": {},
     "output_type": "execute_result"
    }
   ],
   "source": [
    "(model_l2.named_steps[\"classifier\"].coef_[1] - model_l1.named_steps[\"classifier\"].coef_[1])/model_l2.named_steps[\"classifier\"].coef_[1]"
   ]
  },
  {
   "cell_type": "markdown",
   "metadata": {},
   "source": [
    "As we can see we have that some coefficents calculated by ridge and lasso are different, while there is a considerable number of coefficent that have a difference < 10%, suggesting that those estimates can be valid estimates."
   ]
  },
  {
   "cell_type": "markdown",
   "metadata": {},
   "source": [
    "Since logistic regression with ridge and lasso have returned similar results and lasso put very few coefficent to 0, we decided for now to not perform feature selection with logistic regression, because it will take a really huge amount of time.\n",
    "\n",
    "By the way, after checking some other classification algorithm, if the logistic regression have the best result, we will perfom feature selection. For now we are satisfied with just the model below, which contains all the features except those less important."
   ]
  },
  {
   "cell_type": "code",
   "execution_count": 54,
   "metadata": {},
   "outputs": [
    {
     "data": {
      "text/plain": [
       "LogisticRegression(max_iter=8000, penalty='none', solver='saga')"
      ]
     },
     "execution_count": 54,
     "metadata": {},
     "output_type": "execute_result"
    },
    {
     "name": "stdout",
     "output_type": "stream",
     "text": [
      "Train accuracy: 0.22418426103646832\n",
      "CV accuracy:  0.22418426103646832\n"
     ]
    }
   ],
   "source": [
    "less_imp_corr_covs.discard('ACA')\n",
    "less_imp_corr_covs.discard('AGA')\n",
    "\n",
    "model = LogisticRegression(solver=\"saga\",penalty = \"none\", max_iter = 8000)\n",
    "model.fit(X_train.iloc[small_df_indexes].drop(less_imp_corr_covs, axis = 1), y_train[small_df_indexes])\n",
    "\n",
    "cv_newton = cross_val_score(model,\n",
    "                            X_train.iloc[small_df_indexes].drop(less_imp_corr_covs, axis = 1),\n",
    "                            y_train[small_df_indexes],\n",
    "                            scoring=make_scorer(accuracy), cv=5, n_jobs=-1)\n",
    "print(\"Train accuracy:\", accuracy(y_train[small_df_indexes],\n",
    "                                  model.predict(X_train.iloc[small_df_indexes].drop(less_imp_corr_covs, axis = 1))))\n",
    "print(\"CV accuracy: \",np.mean(cv_newton))"
   ]
  },
  {
   "cell_type": "markdown",
   "metadata": {},
   "source": [
    "### Linear Discriminant Analysis"
   ]
  },
  {
   "cell_type": "markdown",
   "metadata": {},
   "source": [
    "The linear discriminant analysis models the posterior probabilities as a linear function of x, but the relation is found through the Bayes Theorem.\n",
    "\n",
    "LDA assumes that the density functions P(X|Y=k) of X in class K are distributed as a multivariate Gaussian, so first of all we check if this assumption is satisfied."
   ]
  },
  {
   "cell_type": "code",
   "execution_count": 8,
   "metadata": {},
   "outputs": [
    {
     "data": {
      "text/plain": [
       "array([[<AxesSubplot:title={'center':'CUA'}>,\n",
       "        <AxesSubplot:title={'center':'AGG'}>],\n",
       "       [<AxesSubplot:title={'center':'UGA'}>,\n",
       "        <AxesSubplot:title={'center':'AAG'}>],\n",
       "       [<AxesSubplot:title={'center':'GAU'}>,\n",
       "        <AxesSubplot:title={'center':'UGU'}>]], dtype=object)"
      ]
     },
     "execution_count": 8,
     "metadata": {},
     "output_type": "execute_result"
    },
    {
     "data": {
      "image/png": "[encoded data removed]",
      "text/plain": [
       "<Figure size 432x288 with 6 Axes>"
      ]
     },
     "metadata": {
      "needs_background": "light"
     },
     "output_type": "display_data"
    }
   ],
   "source": [
    "#calculated at preliminary analysis\n",
    "most_important_feature = ['CUA', 'AGG', 'UGA', 'AAG', 'GAU', 'UGU']\n",
    "\n",
    "X_train.hist(column=most_important_feature, bins = 200)"
   ]
  },
  {
   "cell_type": "markdown",
   "metadata": {},
   "source": [
    "The most important covariates doesn't seems to be distributed as a gaussian, so we expect that this method doesn't perform well."
   ]
  },
  {
   "cell_type": "code",
   "execution_count": 9,
   "metadata": {},
   "outputs": [
    {
     "name": "stdout",
     "output_type": "stream",
     "text": [
      "Train accuracy: 0.7960084436768374\n",
      "CV score: 0.7901543333471419\n"
     ]
    }
   ],
   "source": [
    "from sklearn.discriminant_analysis import LinearDiscriminantAnalysis as LDA\n",
    "model = LDA()\n",
    "model = model.fit(X_train, y_train)\n",
    "\n",
    "print(\"Train accuracy:\", accuracy(y_train, model.predict(X_train)))\n",
    "cv_lda = cross_val_score(model, X_train, y_train, scoring=make_scorer(accuracy), cv=5,n_jobs=-1)\n",
    "print(\"CV score:\", np.mean(cv_lda))"
   ]
  },
  {
   "cell_type": "markdown",
   "metadata": {},
   "source": [
    "For LDA there are not shrinkage methods, so we proceed with feature selection in order to have a model with less covariates."
   ]
  },
  {
   "cell_type": "code",
   "execution_count": 36,
   "metadata": {},
   "outputs": [],
   "source": [
    "from sklearn.dummy import DummyRegressor, DummyClassifier\n",
    "from sklearn.model_selection import cross_val_score\n",
    "from sklearn.metrics import make_scorer\n",
    "\n",
    "\n",
    "def get_evaluator(scorer):\n",
    "    def evaluator(model, X, y, trained=False):\n",
    "        if not trained:\n",
    "            model = model.fit(X, y)\n",
    "        score = scorer(model, X, y)\n",
    "        return model, score\n",
    "    return evaluator   \n",
    "\n",
    "def get_cv_evaluator(scorer, cv=3):\n",
    "    def evaluator(model, X, y, trained=False):            \n",
    "        scores = cross_val_score(model, X, y, scoring=scorer, cv=cv)\n",
    "        if not trained:\n",
    "            model = model.fit(X, y)\n",
    "        return model, np.mean(scores)\n",
    "    \n",
    "    return evaluator\n",
    "\n",
    "def get_val_evaluator(scorer, val_size=0.1):\n",
    "    def evaluator(model, X, y, trained=False):\n",
    "        X_train_small, X_val, y_train_small, y_val = train_test_split(X, y, \n",
    "                                                                      test_size=val_size,\n",
    "                                                                      random_state=0)\n",
    "        \n",
    "        if not trained:\n",
    "            model = model.fit(X_train_small, y_train_small)\n",
    "        score = scorer(model, X_val, y_val) \n",
    "        \n",
    "        return model, score\n",
    "    \n",
    "    return evaluator\n",
    "\n",
    "def forward_ff(Xtrain_pd, ytrain, Xtest_pd, ytest,\n",
    "                      candidates_evaluator, candidates_argbest, # Metric to be used at 2.b\n",
    "                      subsets_evaluator, subsets_argbest,       # Metric to be used at 3\n",
    "                      candidates_scorer_name=None,  # Name of 2. figure\n",
    "                      subsets_scorer_name=None,     # Name of 3. figure\n",
    "                      verbose=True, weight_step3=0,plot_results=True, \n",
    "               dummyModel = DummyRegressor,mod = LinearRegression,**kwargs):   # estimator and parameters\n",
    "    \n",
    "    # Global variable init\n",
    "    # ====================\n",
    "    num_features = Xtrain_pd.shape[-1]\n",
    "    best_candidate_metric = []\n",
    "    subsets_metric = []        # The best metric of each subset of dimension 'dim'\n",
    "    subsets_best_features = [] # The best features combination in each subset of dimension 'dim'\n",
    "    # A figure to keep track of candidates scores in each Mk subset\n",
    "    if plot_results==True:    \n",
    "        plt.figure()\n",
    "        candidate_fig = plt.subplot(111) # A global matplotlib figure\n",
    "    num_evaluations = 0        # A conter to keep track of the total number of trials\n",
    "    \n",
    "    selected_features = []\n",
    "    all_features = Xtrain_pd.columns\n",
    "    \n",
    "    \n",
    "    # 1. Train M0\n",
    "    # ===========\n",
    "    if(dummyModel == DummyClassifier):\n",
    "        model = dummyModel(strategy = 'prior')\n",
    "    else :\n",
    "        model = dummyModel()\n",
    "    # Compute (2.b) metrics\n",
    "    model, score = candidates_evaluator(model, Xtrain_pd[[]], ytrain)\n",
    "    best_candidate_metric.append(score)\n",
    "    subsets_best_features.append([])\n",
    "    if plot_results==True:\n",
    "        _ = candidate_fig.scatter([0], [score], color=\"b\")\n",
    "    # Compute metric for step 3.\n",
    "    _, score = subsets_evaluator(model, Xtrain_pd[[]], ytrain, trained=True)\n",
    "    subsets_metric.append(score)\n",
    "    score_3=score\n",
    "    dim=0\n",
    "    if verbose:\n",
    "            print(\"............\")\n",
    "            print(\"Best model (M{}) with {} features: {}\".format(dim, dim, []))\n",
    "            print(\"M{} CV score (2.): {}\".format(dim, score_3))\n",
    "        \n",
    "    # 2. Evaluate all Mk candidates with\n",
    "    #    k=0...P features\n",
    "    # =========================================\n",
    "    for dim in range(1,len(all_features)+1):\n",
    "        candidate_metrics = [] # Keep track of candidates metrics. Will be used to select the best\n",
    "        candidate_models = []  # Keep track of candidates trained models\n",
    "        \n",
    "        # 2.a Fixed the number of features 'dim', look at\n",
    "        #     all the possible candidate models with that\n",
    "        #     cardinality\n",
    "        # ===============================================\n",
    "        remaining_features = all_features.difference(selected_features)\n",
    "        \n",
    "        for new_column in remaining_features:\n",
    "            Xtrain_sub = Xtrain_pd[selected_features+[new_column]].to_numpy()\n",
    "            model = mod(**kwargs)\n",
    "            model, score = candidates_evaluator(model, Xtrain_sub, ytrain)\n",
    "            candidate_models.append(model)\n",
    "            candidate_metrics.append(score)\n",
    "            num_evaluations += 1\n",
    "        if plot_results==True:\n",
    "            \n",
    "            _ = candidate_fig.scatter([Xtrain_sub.shape[-1]]*len(candidate_metrics), candidate_metrics,\n",
    "                                  color=\"b\")\n",
    "            \n",
    "        # 2.b Select the best candidate among those using\n",
    "        #     the same number of features (2.a)\n",
    "        # ===============================================\n",
    "        idx_best_candidate = candidates_argbest(candidate_metrics)\n",
    "        # Update selected feature\n",
    "        selected_features.append(remaining_features[idx_best_candidate])\n",
    "        # Save best candidate features\n",
    "        best_candidate_metric.append(candidate_metrics[idx_best_candidate])\n",
    "        best_features = selected_features.copy()\n",
    "        subsets_best_features.append(best_features)\n",
    "        \n",
    "        \n",
    "        # Compute metric for step 3.\n",
    "        best_subset_model = candidate_models[idx_best_candidate]\n",
    "        best_subset_Xtrain = Xtrain_pd[best_features].to_numpy()\n",
    "        _, score = subsets_evaluator(best_subset_model, best_subset_Xtrain, ytrain, trained=True)\n",
    "        subsets_metric.append(score)\n",
    "        step3_score=score\n",
    "        num_evaluations += weight_step3 \n",
    "        \n",
    "        if verbose:\n",
    "            print(\"............\")\n",
    "            print(\"Best model (M{}) with {} features: {}\".format(dim, dim, best_features))\n",
    "            print(\"M{} CV score (3.): {}\".format(dim, step3_score))\n",
    "        \n",
    "    # 3. Among all best candidates with increasing number\n",
    "    #    of features, select the best one\n",
    "    # ===================================================\n",
    "    best_subset_idx = subsets_argbest(subsets_metric)\n",
    "    best_features = subsets_best_features[best_subset_idx]\n",
    "    best_score = subsets_metric[best_subset_idx]\n",
    "    \n",
    "    if verbose:\n",
    "        print(\"\\n\\nBest configuration has {} features\".format(best_subset_idx))\n",
    "        print(\"Features: {}\".format(subsets_best_features[best_subset_idx]))\n",
    "        print(\"Score step: {}\".format(best_score))\n",
    "        print(\"Total number of trained models:\", num_evaluations)\n",
    "    \n",
    "    # Complete the subsets_fig figure by plotting\n",
    "    # a line connecting all best candidate score\n",
    "    if plot_results==True:\n",
    "        best_candidate_score_idx = candidates_argbest(best_candidate_metric)\n",
    "        _ = candidate_fig.plot(range(len(best_candidate_metric)), best_candidate_metric)\n",
    "        _ = candidate_fig.scatter(best_candidate_score_idx, best_candidate_metric[best_candidate_score_idx],\n",
    "                              marker='X', label=\"Best\", color=\"r\")\n",
    "        candidate_fig.set_title(candidates_scorer_name)\n",
    "        candidate_fig.legend()\n",
    "    \n",
    "        # Plot a figure to show how te 3. metric evolves\n",
    "        plt.figure()\n",
    "        subsets_fig = plt.subplot(111)\n",
    "        _ = subsets_fig.plot(range(len(subsets_metric)), subsets_metric, label=\"Selection (3.) scores\")\n",
    "        _ = subsets_fig.scatter(best_subset_idx, subsets_metric[best_subset_idx],\n",
    "                              marker='X', label=\"Best (3.) score\", color=\"r\")\n",
    "        subsets_fig.set_title(subsets_scorer_name)\n",
    "        subsets_fig.legend()\n",
    "    return(best_features,best_score,subsets_metric)"
   ]
  },
  {
   "cell_type": "code",
   "execution_count": 38,
   "metadata": {},
   "outputs": [
    {
     "name": "stdout",
     "output_type": "stream",
     "text": [
      "............\n",
      "Best model (M0) with 0 features: []\n",
      "M0 CV score (2.): 0.22414122444846427\n",
      "............\n",
      "Best model (M1) with 1 features: ['CUA']\n",
      "M1 CV score (3.): 0.40184284050686514\n",
      "............\n",
      "Best model (M2) with 2 features: ['CUA', 'AGG']\n",
      "M2 CV score (3.): 0.4890615722393295\n",
      "............\n",
      "Best model (M3) with 3 features: ['CUA', 'AGG', 'UGU']\n",
      "M3 CV score (3.): 0.5355990370851111\n",
      "............\n",
      "Best model (M4) with 4 features: ['CUA', 'AGG', 'UGU', 'GAA']\n",
      "M4 CV score (3.): 0.5606423268295153\n",
      "............\n",
      "Best model (M5) with 5 features: ['CUA', 'AGG', 'UGU', 'GAA', 'AUU']\n",
      "M5 CV score (3.): 0.5855894631703467\n",
      "............\n",
      "Best model (M6) with 6 features: ['CUA', 'AGG', 'UGU', 'GAA', 'AUU', 'UUC']\n",
      "M6 CV score (3.): 0.6114949115563595\n",
      "............\n",
      "Best model (M7) with 7 features: ['CUA', 'AGG', 'UGU', 'GAA', 'AUU', 'UUC', 'CUU']\n",
      "M7 CV score (3.): 0.6323167492877099\n",
      "............\n",
      "Best model (M8) with 8 features: ['CUA', 'AGG', 'UGU', 'GAA', 'AUU', 'UUC', 'CUU', 'ACU']\n",
      "M8 CV score (3.): 0.6469010894930889\n",
      "............\n",
      "Best model (M9) with 9 features: ['CUA', 'AGG', 'UGU', 'GAA', 'AUU', 'UUC', 'CUU', 'ACU', 'GGA']\n",
      "M9 CV score (3.): 0.6548642391269326\n",
      "............\n",
      "Best model (M10) with 10 features: ['CUA', 'AGG', 'UGU', 'GAA', 'AUU', 'UUC', 'CUU', 'ACU', 'GGA', 'CCC']\n",
      "M10 CV score (3.): 0.6656112806491851\n",
      "............\n",
      "Best model (M11) with 11 features: ['CUA', 'AGG', 'UGU', 'GAA', 'AUU', 'UUC', 'CUU', 'ACU', 'GGA', 'CCC', 'GCC']\n",
      "M11 CV score (3.): 0.6729999493687201\n",
      "............\n",
      "Best model (M12) with 12 features: ['CUA', 'AGG', 'UGU', 'GAA', 'AUU', 'UUC', 'CUU', 'ACU', 'GGA', 'CCC', 'GCC', 'GGC']\n",
      "M12 CV score (3.): 0.6805808328385277\n",
      "............\n",
      "Best model (M13) with 13 features: ['CUA', 'AGG', 'UGU', 'GAA', 'AUU', 'UUC', 'CUU', 'ACU', 'GGA', 'CCC', 'GCC', 'GGC', 'CUG']\n",
      "M13 CV score (3.): 0.6835551443681906\n",
      "............\n",
      "Best model (M14) with 14 features: ['CUA', 'AGG', 'UGU', 'GAA', 'AUU', 'UUC', 'CUU', 'ACU', 'GGA', 'CCC', 'GCC', 'GGC', 'CUG', 'AAG']\n",
      "M14 CV score (3.): 0.6896959361493531\n",
      "............\n",
      "Best model (M15) with 15 features: ['CUA', 'AGG', 'UGU', 'GAA', 'AUU', 'UUC', 'CUU', 'ACU', 'GGA', 'CCC', 'GCC', 'GGC', 'CUG', 'AAG', 'UGA']\n",
      "M15 CV score (3.): 0.6958363597030244\n",
      "............\n",
      "Best model (M16) with 16 features: ['CUA', 'AGG', 'UGU', 'GAA', 'AUU', 'UUC', 'CUU', 'ACU', 'GGA', 'CCC', 'GCC', 'GGC', 'CUG', 'AAG', 'UGA', 'UAC']\n",
      "M16 CV score (3.): 0.7032244760813231\n",
      "............\n",
      "Best model (M17) with 17 features: ['CUA', 'AGG', 'UGU', 'GAA', 'AUU', 'UUC', 'CUU', 'ACU', 'GGA', 'CCC', 'GCC', 'GGC', 'CUG', 'AAG', 'UGA', 'UAC', 'AAA']\n",
      "M17 CV score (3.): 0.7088856975839674\n",
      "............\n",
      "Best model (M18) with 18 features: ['CUA', 'AGG', 'UGU', 'GAA', 'AUU', 'UUC', 'CUU', 'ACU', 'GGA', 'CCC', 'GCC', 'GGC', 'CUG', 'AAG', 'UGA', 'UAC', 'AAA', 'ACG']\n",
      "M18 CV score (3.): 0.7134911188132028\n",
      "............\n",
      "Best model (M19) with 19 features: ['CUA', 'AGG', 'UGU', 'GAA', 'AUU', 'UUC', 'CUU', 'ACU', 'GGA', 'CCC', 'GCC', 'GGC', 'CUG', 'AAG', 'UGA', 'UAC', 'AAA', 'ACG', 'UCG']\n",
      "M19 CV score (3.): 0.719343956696447\n",
      "............\n",
      "Best model (M20) with 20 features: ['CUA', 'AGG', 'UGU', 'GAA', 'AUU', 'UUC', 'CUU', 'ACU', 'GGA', 'CCC', 'GCC', 'GGC', 'CUG', 'AAG', 'UGA', 'UAC', 'AAA', 'ACG', 'UCG', 'AUC']\n",
      "M20 CV score (3.): 0.7236618382836916\n",
      "............\n",
      "Best model (M21) with 21 features: ['CUA', 'AGG', 'UGU', 'GAA', 'AUU', 'UUC', 'CUU', 'ACU', 'GGA', 'CCC', 'GCC', 'GGC', 'CUG', 'AAG', 'UGA', 'UAC', 'AAA', 'ACG', 'UCG', 'AUC', 'UCA']\n",
      "M21 CV score (3.): 0.7268283645636274\n",
      "............\n",
      "Best model (M22) with 22 features: ['CUA', 'AGG', 'UGU', 'GAA', 'AUU', 'UUC', 'CUU', 'ACU', 'GGA', 'CCC', 'GCC', 'GGC', 'CUG', 'AAG', 'UGA', 'UAC', 'AAA', 'ACG', 'UCG', 'AUC', 'UCA', 'CAU']\n",
      "M22 CV score (3.): 0.7311459699802537\n",
      "............\n",
      "Best model (M23) with 23 features: ['CUA', 'AGG', 'UGU', 'GAA', 'AUU', 'UUC', 'CUU', 'ACU', 'GGA', 'CCC', 'GCC', 'GGC', 'CUG', 'AAG', 'UGA', 'UAC', 'AAA', 'ACG', 'UCG', 'AUC', 'UCA', 'CAU', 'UAU']\n",
      "M23 CV score (3.): 0.7346964654763714\n",
      "............\n",
      "Best model (M24) with 24 features: ['CUA', 'AGG', 'UGU', 'GAA', 'AUU', 'UUC', 'CUU', 'ACU', 'GGA', 'CCC', 'GCC', 'GGC', 'CUG', 'AAG', 'UGA', 'UAC', 'AAA', 'ACG', 'UCG', 'AUC', 'UCA', 'CAU', 'UAU', 'AUA']\n",
      "M24 CV score (3.): 0.7385347307566614\n",
      "............\n",
      "Best model (M25) with 25 features: ['CUA', 'AGG', 'UGU', 'GAA', 'AUU', 'UUC', 'CUU', 'ACU', 'GGA', 'CCC', 'GCC', 'GGC', 'CUG', 'AAG', 'UGA', 'UAC', 'AAA', 'ACG', 'UCG', 'AUC', 'UCA', 'CAU', 'UAU', 'AUA', 'UUA']\n",
      "M25 CV score (3.): 0.744291047008842\n",
      "............\n",
      "Best model (M26) with 26 features: ['CUA', 'AGG', 'UGU', 'GAA', 'AUU', 'UUC', 'CUU', 'ACU', 'GGA', 'CCC', 'GCC', 'GGC', 'CUG', 'AAG', 'UGA', 'UAC', 'AAA', 'ACG', 'UCG', 'AUC', 'UCA', 'CAU', 'UAU', 'AUA', 'UUA', 'UCC']\n",
      "M26 CV score (3.): 0.747936775339805\n",
      "............\n",
      "Best model (M27) with 27 features: ['CUA', 'AGG', 'UGU', 'GAA', 'AUU', 'UUC', 'CUU', 'ACU', 'GGA', 'CCC', 'GCC', 'GGC', 'CUG', 'AAG', 'UGA', 'UAC', 'AAA', 'ACG', 'UCG', 'AUC', 'UCA', 'CAU', 'UAU', 'AUA', 'UUA', 'UCC', 'AUG']\n",
      "M27 CV score (3.): 0.7497593633346681\n",
      "............\n",
      "Best model (M28) with 28 features: ['CUA', 'AGG', 'UGU', 'GAA', 'AUU', 'UUC', 'CUU', 'ACU', 'GGA', 'CCC', 'GCC', 'GGC', 'CUG', 'AAG', 'UGA', 'UAC', 'AAA', 'ACG', 'UCG', 'AUC', 'UCA', 'CAU', 'UAU', 'AUA', 'UUA', 'UCC', 'AUG', 'GAG']\n",
      "M28 CV score (3.): 0.7513909333186042\n",
      "............\n",
      "Best model (M29) with 29 features: ['CUA', 'AGG', 'UGU', 'GAA', 'AUU', 'UUC', 'CUU', 'ACU', 'GGA', 'CCC', 'GCC', 'GGC', 'CUG', 'AAG', 'UGA', 'UAC', 'AAA', 'ACG', 'UCG', 'AUC', 'UCA', 'CAU', 'UAU', 'AUA', 'UUA', 'UCC', 'AUG', 'GAG', 'UCU']\n",
      "M29 CV score (3.): 0.7553248917181035\n",
      "............\n",
      "Best model (M30) with 30 features: ['CUA', 'AGG', 'UGU', 'GAA', 'AUU', 'UUC', 'CUU', 'ACU', 'GGA', 'CCC', 'GCC', 'GGC', 'CUG', 'AAG', 'UGA', 'UAC', 'AAA', 'ACG', 'UCG', 'AUC', 'UCA', 'CAU', 'UAU', 'AUA', 'UUA', 'UCC', 'AUG', 'GAG', 'UCU', 'GCA']\n",
      "M30 CV score (3.): 0.7573401547476031\n",
      "............\n",
      "Best model (M31) with 31 features: ['CUA', 'AGG', 'UGU', 'GAA', 'AUU', 'UUC', 'CUU', 'ACU', 'GGA', 'CCC', 'GCC', 'GGC', 'CUG', 'AAG', 'UGA', 'UAC', 'AAA', 'ACG', 'UCG', 'AUC', 'UCA', 'CAU', 'UAU', 'AUA', 'UUA', 'UCC', 'AUG', 'GAG', 'UCU', 'GCA', 'AGC']\n",
      "M31 CV score (3.): 0.759835264226239\n",
      "............\n",
      "Best model (M32) with 32 features: ['CUA', 'AGG', 'UGU', 'GAA', 'AUU', 'UUC', 'CUU', 'ACU', 'GGA', 'CCC', 'GCC', 'GGC', 'CUG', 'AAG', 'UGA', 'UAC', 'AAA', 'ACG', 'UCG', 'AUC', 'UCA', 'CAU', 'UAU', 'AUA', 'UUA', 'UCC', 'AUG', 'GAG', 'UCU', 'GCA', 'AGC', 'CCG']\n",
      "M32 CV score (3.): 0.7620420055510294\n",
      "............\n",
      "Best model (M33) with 33 features: ['CUA', 'AGG', 'UGU', 'GAA', 'AUU', 'UUC', 'CUU', 'ACU', 'GGA', 'CCC', 'GCC', 'GGC', 'CUG', 'AAG', 'UGA', 'UAC', 'AAA', 'ACG', 'UCG', 'AUC', 'UCA', 'CAU', 'UAU', 'AUA', 'UUA', 'UCC', 'AUG', 'GAG', 'UCU', 'GCA', 'AGC', 'CCG', 'GAU']\n",
      "M33 CV score (3.): 0.7666477950077558\n",
      "............\n",
      "Best model (M34) with 34 features: ['CUA', 'AGG', 'UGU', 'GAA', 'AUU', 'UUC', 'CUU', 'ACU', 'GGA', 'CCC', 'GCC', 'GGC', 'CUG', 'AAG', 'UGA', 'UAC', 'AAA', 'ACG', 'UCG', 'AUC', 'UCA', 'CAU', 'UAU', 'AUA', 'UUA', 'UCC', 'AUG', 'GAG', 'UCU', 'GCA', 'AGC', 'CCG', 'GAU', 'UUG']\n",
      "M34 CV score (3.): 0.7691417537754826\n",
      "............\n",
      "Best model (M35) with 35 features: ['CUA', 'AGG', 'UGU', 'GAA', 'AUU', 'UUC', 'CUU', 'ACU', 'GGA', 'CCC', 'GCC', 'GGC', 'CUG', 'AAG', 'UGA', 'UAC', 'AAA', 'ACG', 'UCG', 'AUC', 'UCA', 'CAU', 'UAU', 'AUA', 'UUA', 'UCC', 'AUG', 'GAG', 'UCU', 'GCA', 'AGC', 'CCG', 'GAU', 'UUG', 'GUA']\n",
      "M35 CV score (3.): 0.7702930170259187\n",
      "............\n",
      "Best model (M36) with 36 features: ['CUA', 'AGG', 'UGU', 'GAA', 'AUU', 'UUC', 'CUU', 'ACU', 'GGA', 'CCC', 'GCC', 'GGC', 'CUG', 'AAG', 'UGA', 'UAC', 'AAA', 'ACG', 'UCG', 'AUC', 'UCA', 'CAU', 'UAU', 'AUA', 'UUA', 'UCC', 'AUG', 'GAG', 'UCU', 'GCA', 'AGC', 'CCG', 'GAU', 'UUG', 'GUA', 'CAG']\n",
      "M36 CV score (3.): 0.7730763565730908\n",
      "............\n",
      "Best model (M37) with 37 features: ['CUA', 'AGG', 'UGU', 'GAA', 'AUU', 'UUC', 'CUU', 'ACU', 'GGA', 'CCC', 'GCC', 'GGC', 'CUG', 'AAG', 'UGA', 'UAC', 'AAA', 'ACG', 'UCG', 'AUC', 'UCA', 'CAU', 'UAU', 'AUA', 'UUA', 'UCC', 'AUG', 'GAG', 'UCU', 'GCA', 'AGC', 'CCG', 'GAU', 'UUG', 'GUA', 'CAG', 'UGC']\n",
      "M37 CV score (3.): 0.7735562030222272\n"
     ]
    },
    {
     "name": "stdout",
     "output_type": "stream",
     "text": [
      "............\n",
      "Best model (M38) with 38 features: ['CUA', 'AGG', 'UGU', 'GAA', 'AUU', 'UUC', 'CUU', 'ACU', 'GGA', 'CCC', 'GCC', 'GGC', 'CUG', 'AAG', 'UGA', 'UAC', 'AAA', 'ACG', 'UCG', 'AUC', 'UCA', 'CAU', 'UAU', 'AUA', 'UUA', 'UCC', 'AUG', 'GAG', 'UCU', 'GCA', 'AGC', 'CCG', 'GAU', 'UUG', 'GUA', 'CAG', 'UGC', 'CGU']\n",
      "M38 CV score (3.): 0.7754748063353539\n",
      "............\n",
      "Best model (M39) with 39 features: ['CUA', 'AGG', 'UGU', 'GAA', 'AUU', 'UUC', 'CUU', 'ACU', 'GGA', 'CCC', 'GCC', 'GGC', 'CUG', 'AAG', 'UGA', 'UAC', 'AAA', 'ACG', 'UCG', 'AUC', 'UCA', 'CAU', 'UAU', 'AUA', 'UUA', 'UCC', 'AUG', 'GAG', 'UCU', 'GCA', 'AGC', 'CCG', 'GAU', 'UUG', 'GUA', 'CAG', 'UGC', 'CGU', 'CGG']\n",
      "M39 CV score (3.): 0.7775854863134445\n",
      "............\n",
      "Best model (M40) with 40 features: ['CUA', 'AGG', 'UGU', 'GAA', 'AUU', 'UUC', 'CUU', 'ACU', 'GGA', 'CCC', 'GCC', 'GGC', 'CUG', 'AAG', 'UGA', 'UAC', 'AAA', 'ACG', 'UCG', 'AUC', 'UCA', 'CAU', 'UAU', 'AUA', 'UUA', 'UCC', 'AUG', 'GAG', 'UCU', 'GCA', 'AGC', 'CCG', 'GAU', 'UUG', 'GUA', 'CAG', 'UGC', 'CGU', 'CGG', 'CCA']\n",
      "M40 CV score (3.): 0.777489470995181\n",
      "............\n",
      "Best model (M41) with 41 features: ['CUA', 'AGG', 'UGU', 'GAA', 'AUU', 'UUC', 'CUU', 'ACU', 'GGA', 'CCC', 'GCC', 'GGC', 'CUG', 'AAG', 'UGA', 'UAC', 'AAA', 'ACG', 'UCG', 'AUC', 'UCA', 'CAU', 'UAU', 'AUA', 'UUA', 'UCC', 'AUG', 'GAG', 'UCU', 'GCA', 'AGC', 'CCG', 'GAU', 'UUG', 'GUA', 'CAG', 'UGC', 'CGU', 'CGG', 'CCA', 'GAC']\n",
      "M41 CV score (3.): 0.7783530104898806\n",
      "............\n",
      "Best model (M42) with 42 features: ['CUA', 'AGG', 'UGU', 'GAA', 'AUU', 'UUC', 'CUU', 'ACU', 'GGA', 'CCC', 'GCC', 'GGC', 'CUG', 'AAG', 'UGA', 'UAC', 'AAA', 'ACG', 'UCG', 'AUC', 'UCA', 'CAU', 'UAU', 'AUA', 'UUA', 'UCC', 'AUG', 'GAG', 'UCU', 'GCA', 'AGC', 'CCG', 'GAU', 'UUG', 'GUA', 'CAG', 'UGC', 'CGU', 'CGG', 'CCA', 'GAC', 'CUC']\n",
      "M42 CV score (3.): 0.7787369797060624\n",
      "............\n",
      "Best model (M43) with 43 features: ['CUA', 'AGG', 'UGU', 'GAA', 'AUU', 'UUC', 'CUU', 'ACU', 'GGA', 'CCC', 'GCC', 'GGC', 'CUG', 'AAG', 'UGA', 'UAC', 'AAA', 'ACG', 'UCG', 'AUC', 'UCA', 'CAU', 'UAU', 'AUA', 'UUA', 'UCC', 'AUG', 'GAG', 'UCU', 'GCA', 'AGC', 'CCG', 'GAU', 'UUG', 'GUA', 'CAG', 'UGC', 'CGU', 'CGG', 'CCA', 'GAC', 'CUC', 'AAC']\n",
      "M43 CV score (3.): 0.779120672751626\n",
      "............\n",
      "Best model (M44) with 44 features: ['CUA', 'AGG', 'UGU', 'GAA', 'AUU', 'UUC', 'CUU', 'ACU', 'GGA', 'CCC', 'GCC', 'GGC', 'CUG', 'AAG', 'UGA', 'UAC', 'AAA', 'ACG', 'UCG', 'AUC', 'UCA', 'CAU', 'UAU', 'AUA', 'UUA', 'UCC', 'AUG', 'GAG', 'UCU', 'GCA', 'AGC', 'CCG', 'GAU', 'UUG', 'GUA', 'CAG', 'UGC', 'CGU', 'CGG', 'CCA', 'GAC', 'CUC', 'AAC', 'Ncodons']\n",
      "M44 CV score (3.): 0.7790247034617985\n",
      "............\n",
      "Best model (M45) with 45 features: ['CUA', 'AGG', 'UGU', 'GAA', 'AUU', 'UUC', 'CUU', 'ACU', 'GGA', 'CCC', 'GCC', 'GGC', 'CUG', 'AAG', 'UGA', 'UAC', 'AAA', 'ACG', 'UCG', 'AUC', 'UCA', 'CAU', 'UAU', 'AUA', 'UUA', 'UCC', 'AUG', 'GAG', 'UCU', 'GCA', 'AGC', 'CCG', 'GAU', 'UUG', 'GUA', 'CAG', 'UGC', 'CGU', 'CGG', 'CCA', 'GAC', 'CUC', 'AAC', 'Ncodons', 'AGU']\n",
      "M45 CV score (3.): 0.7789289643141533\n",
      "............\n",
      "Best model (M46) with 46 features: ['CUA', 'AGG', 'UGU', 'GAA', 'AUU', 'UUC', 'CUU', 'ACU', 'GGA', 'CCC', 'GCC', 'GGC', 'CUG', 'AAG', 'UGA', 'UAC', 'AAA', 'ACG', 'UCG', 'AUC', 'UCA', 'CAU', 'UAU', 'AUA', 'UUA', 'UCC', 'AUG', 'GAG', 'UCU', 'GCA', 'AGC', 'CCG', 'GAU', 'UUG', 'GUA', 'CAG', 'UGC', 'CGU', 'CGG', 'CCA', 'GAC', 'CUC', 'AAC', 'Ncodons', 'AGU', 'GUU']\n",
      "M46 CV score (3.): 0.7790247955186714\n",
      "............\n",
      "Best model (M47) with 47 features: ['CUA', 'AGG', 'UGU', 'GAA', 'AUU', 'UUC', 'CUU', 'ACU', 'GGA', 'CCC', 'GCC', 'GGC', 'CUG', 'AAG', 'UGA', 'UAC', 'AAA', 'ACG', 'UCG', 'AUC', 'UCA', 'CAU', 'UAU', 'AUA', 'UUA', 'UCC', 'AUG', 'GAG', 'UCU', 'GCA', 'AGC', 'CCG', 'GAU', 'UUG', 'GUA', 'CAG', 'UGC', 'CGU', 'CGG', 'CCA', 'GAC', 'CUC', 'AAC', 'Ncodons', 'AGU', 'GUU', 'CCU']\n",
      "M47 CV score (3.): 0.7796961202630985\n",
      "............\n",
      "Best model (M48) with 48 features: ['CUA', 'AGG', 'UGU', 'GAA', 'AUU', 'UUC', 'CUU', 'ACU', 'GGA', 'CCC', 'GCC', 'GGC', 'CUG', 'AAG', 'UGA', 'UAC', 'AAA', 'ACG', 'UCG', 'AUC', 'UCA', 'CAU', 'UAU', 'AUA', 'UUA', 'UCC', 'AUG', 'GAG', 'UCU', 'GCA', 'AGC', 'CCG', 'GAU', 'UUG', 'GUA', 'CAG', 'UGC', 'CGU', 'CGG', 'CCA', 'GAC', 'CUC', 'AAC', 'Ncodons', 'AGU', 'GUU', 'CCU', 'CGC']\n",
      "M48 CV score (3.): 0.7796007493429441\n",
      "............\n",
      "Best model (M49) with 49 features: ['CUA', 'AGG', 'UGU', 'GAA', 'AUU', 'UUC', 'CUU', 'ACU', 'GGA', 'CCC', 'GCC', 'GGC', 'CUG', 'AAG', 'UGA', 'UAC', 'AAA', 'ACG', 'UCG', 'AUC', 'UCA', 'CAU', 'UAU', 'AUA', 'UUA', 'UCC', 'AUG', 'GAG', 'UCU', 'GCA', 'AGC', 'CCG', 'GAU', 'UUG', 'GUA', 'CAG', 'UGC', 'CGU', 'CGG', 'CCA', 'GAC', 'CUC', 'AAC', 'Ncodons', 'AGU', 'GUU', 'CCU', 'CGC', 'CAA']\n",
      "M49 CV score (3.): 0.7796968567180805\n",
      "............\n",
      "Best model (M50) with 50 features: ['CUA', 'AGG', 'UGU', 'GAA', 'AUU', 'UUC', 'CUU', 'ACU', 'GGA', 'CCC', 'GCC', 'GGC', 'CUG', 'AAG', 'UGA', 'UAC', 'AAA', 'ACG', 'UCG', 'AUC', 'UCA', 'CAU', 'UAU', 'AUA', 'UUA', 'UCC', 'AUG', 'GAG', 'UCU', 'GCA', 'AGC', 'CCG', 'GAU', 'UUG', 'GUA', 'CAG', 'UGC', 'CGU', 'CGG', 'CCA', 'GAC', 'CUC', 'AAC', 'Ncodons', 'AGU', 'GUU', 'CCU', 'CGC', 'CAA', 'CAC']\n",
      "M50 CV score (3.): 0.7820950303097254\n",
      "............\n",
      "Best model (M51) with 51 features: ['CUA', 'AGG', 'UGU', 'GAA', 'AUU', 'UUC', 'CUU', 'ACU', 'GGA', 'CCC', 'GCC', 'GGC', 'CUG', 'AAG', 'UGA', 'UAC', 'AAA', 'ACG', 'UCG', 'AUC', 'UCA', 'CAU', 'UAU', 'AUA', 'UUA', 'UCC', 'AUG', 'GAG', 'UCU', 'GCA', 'AGC', 'CCG', 'GAU', 'UUG', 'GUA', 'CAG', 'UGC', 'CGU', 'CGG', 'CCA', 'GAC', 'CUC', 'AAC', 'Ncodons', 'AGU', 'GUU', 'CCU', 'CGC', 'CAA', 'CAC', 'GUG']\n",
      "M51 CV score (3.): 0.782478355127798\n",
      "............\n",
      "Best model (M52) with 52 features: ['CUA', 'AGG', 'UGU', 'GAA', 'AUU', 'UUC', 'CUU', 'ACU', 'GGA', 'CCC', 'GCC', 'GGC', 'CUG', 'AAG', 'UGA', 'UAC', 'AAA', 'ACG', 'UCG', 'AUC', 'UCA', 'CAU', 'UAU', 'AUA', 'UUA', 'UCC', 'AUG', 'GAG', 'UCU', 'GCA', 'AGC', 'CCG', 'GAU', 'UUG', 'GUA', 'CAG', 'UGC', 'CGU', 'CGG', 'CCA', 'GAC', 'CUC', 'AAC', 'Ncodons', 'AGU', 'GUU', 'CCU', 'CGC', 'CAA', 'CAC', 'GUG', 'CGA']\n",
      "M52 CV score (3.): 0.7818067542127526\n",
      "............\n",
      "Best model (M53) with 53 features: ['CUA', 'AGG', 'UGU', 'GAA', 'AUU', 'UUC', 'CUU', 'ACU', 'GGA', 'CCC', 'GCC', 'GGC', 'CUG', 'AAG', 'UGA', 'UAC', 'AAA', 'ACG', 'UCG', 'AUC', 'UCA', 'CAU', 'UAU', 'AUA', 'UUA', 'UCC', 'AUG', 'GAG', 'UCU', 'GCA', 'AGC', 'CCG', 'GAU', 'UUG', 'GUA', 'CAG', 'UGC', 'CGU', 'CGG', 'CCA', 'GAC', 'CUC', 'AAC', 'Ncodons', 'AGU', 'GUU', 'CCU', 'CGC', 'CAA', 'CAC', 'GUG', 'CGA', 'GUC']\n",
      "M53 CV score (3.): 0.7836299866057249\n",
      "............\n",
      "Best model (M54) with 54 features: ['CUA', 'AGG', 'UGU', 'GAA', 'AUU', 'UUC', 'CUU', 'ACU', 'GGA', 'CCC', 'GCC', 'GGC', 'CUG', 'AAG', 'UGA', 'UAC', 'AAA', 'ACG', 'UCG', 'AUC', 'UCA', 'CAU', 'UAU', 'AUA', 'UUA', 'UCC', 'AUG', 'GAG', 'UCU', 'GCA', 'AGC', 'CCG', 'GAU', 'UUG', 'GUA', 'CAG', 'UGC', 'CGU', 'CGG', 'CCA', 'GAC', 'CUC', 'AAC', 'Ncodons', 'AGU', 'GUU', 'CCU', 'CGC', 'CAA', 'CAC', 'GUG', 'CGA', 'GUC', 'GCU']\n",
      "M54 CV score (3.): 0.7837258638386796\n",
      "............\n",
      "Best model (M55) with 55 features: ['CUA', 'AGG', 'UGU', 'GAA', 'AUU', 'UUC', 'CUU', 'ACU', 'GGA', 'CCC', 'GCC', 'GGC', 'CUG', 'AAG', 'UGA', 'UAC', 'AAA', 'ACG', 'UCG', 'AUC', 'UCA', 'CAU', 'UAU', 'AUA', 'UUA', 'UCC', 'AUG', 'GAG', 'UCU', 'GCA', 'AGC', 'CCG', 'GAU', 'UUG', 'GUA', 'CAG', 'UGC', 'CGU', 'CGG', 'CCA', 'GAC', 'CUC', 'AAC', 'Ncodons', 'AGU', 'GUU', 'CCU', 'CGC', 'CAA', 'CAC', 'GUG', 'CGA', 'GUC', 'GCU', 'UUU']\n",
      "M55 CV score (3.): 0.783341802565625\n",
      "............\n",
      "Best model (M56) with 56 features: ['CUA', 'AGG', 'UGU', 'GAA', 'AUU', 'UUC', 'CUU', 'ACU', 'GGA', 'CCC', 'GCC', 'GGC', 'CUG', 'AAG', 'UGA', 'UAC', 'AAA', 'ACG', 'UCG', 'AUC', 'UCA', 'CAU', 'UAU', 'AUA', 'UUA', 'UCC', 'AUG', 'GAG', 'UCU', 'GCA', 'AGC', 'CCG', 'GAU', 'UUG', 'GUA', 'CAG', 'UGC', 'CGU', 'CGG', 'CCA', 'GAC', 'CUC', 'AAC', 'Ncodons', 'AGU', 'GUU', 'CCU', 'CGC', 'CAA', 'CAC', 'GUG', 'CGA', 'GUC', 'GCU', 'UUU', 'GGU']\n",
      "M56 CV score (3.): 0.7846851424810248\n",
      "............\n",
      "Best model (M57) with 57 features: ['CUA', 'AGG', 'UGU', 'GAA', 'AUU', 'UUC', 'CUU', 'ACU', 'GGA', 'CCC', 'GCC', 'GGC', 'CUG', 'AAG', 'UGA', 'UAC', 'AAA', 'ACG', 'UCG', 'AUC', 'UCA', 'CAU', 'UAU', 'AUA', 'UUA', 'UCC', 'AUG', 'GAG', 'UCU', 'GCA', 'AGC', 'CCG', 'GAU', 'UUG', 'GUA', 'CAG', 'UGC', 'CGU', 'CGG', 'CCA', 'GAC', 'CUC', 'AAC', 'Ncodons', 'AGU', 'GUU', 'CCU', 'CGC', 'CAA', 'CAC', 'GUG', 'CGA', 'GUC', 'GCU', 'UUU', 'GGU', 'UAG']\n",
      "M57 CV score (3.): 0.7847813879414702\n"
     ]
    },
    {
     "name": "stdout",
     "output_type": "stream",
     "text": [
      "............\n",
      "Best model (M58) with 58 features: ['CUA', 'AGG', 'UGU', 'GAA', 'AUU', 'UUC', 'CUU', 'ACU', 'GGA', 'CCC', 'GCC', 'GGC', 'CUG', 'AAG', 'UGA', 'UAC', 'AAA', 'ACG', 'UCG', 'AUC', 'UCA', 'CAU', 'UAU', 'AUA', 'UUA', 'UCC', 'AUG', 'GAG', 'UCU', 'GCA', 'AGC', 'CCG', 'GAU', 'UUG', 'GUA', 'CAG', 'UGC', 'CGU', 'CGG', 'CCA', 'GAC', 'CUC', 'AAC', 'Ncodons', 'AGU', 'GUU', 'CCU', 'CGC', 'CAA', 'CAC', 'GUG', 'CGA', 'GUC', 'GCU', 'UUU', 'GGU', 'UAG', 'UAA']\n",
      "M58 CV score (3.): 0.7846853726232066\n",
      "............\n",
      "Best model (M59) with 59 features: ['CUA', 'AGG', 'UGU', 'GAA', 'AUU', 'UUC', 'CUU', 'ACU', 'GGA', 'CCC', 'GCC', 'GGC', 'CUG', 'AAG', 'UGA', 'UAC', 'AAA', 'ACG', 'UCG', 'AUC', 'UCA', 'CAU', 'UAU', 'AUA', 'UUA', 'UCC', 'AUG', 'GAG', 'UCU', 'GCA', 'AGC', 'CCG', 'GAU', 'UUG', 'GUA', 'CAG', 'UGC', 'CGU', 'CGG', 'CCA', 'GAC', 'CUC', 'AAC', 'Ncodons', 'AGU', 'GUU', 'CCU', 'CGC', 'CAA', 'CAC', 'GUG', 'CGA', 'GUC', 'GCU', 'UUU', 'GGU', 'UAG', 'UAA', 'AAU']\n",
      "M59 CV score (3.): 0.7854524825437155\n",
      "............\n",
      "Best model (M60) with 60 features: ['CUA', 'AGG', 'UGU', 'GAA', 'AUU', 'UUC', 'CUU', 'ACU', 'GGA', 'CCC', 'GCC', 'GGC', 'CUG', 'AAG', 'UGA', 'UAC', 'AAA', 'ACG', 'UCG', 'AUC', 'UCA', 'CAU', 'UAU', 'AUA', 'UUA', 'UCC', 'AUG', 'GAG', 'UCU', 'GCA', 'AGC', 'CCG', 'GAU', 'UUG', 'GUA', 'CAG', 'UGC', 'CGU', 'CGG', 'CCA', 'GAC', 'CUC', 'AAC', 'Ncodons', 'AGU', 'GUU', 'CCU', 'CGC', 'CAA', 'CAC', 'GUG', 'CGA', 'GUC', 'GCU', 'UUU', 'GGU', 'UAG', 'UAA', 'AAU', 'GGG']\n",
      "M60 CV score (3.): 0.7865080987033789\n",
      "............\n",
      "Best model (M61) with 61 features: ['CUA', 'AGG', 'UGU', 'GAA', 'AUU', 'UUC', 'CUU', 'ACU', 'GGA', 'CCC', 'GCC', 'GGC', 'CUG', 'AAG', 'UGA', 'UAC', 'AAA', 'ACG', 'UCG', 'AUC', 'UCA', 'CAU', 'UAU', 'AUA', 'UUA', 'UCC', 'AUG', 'GAG', 'UCU', 'GCA', 'AGC', 'CCG', 'GAU', 'UUG', 'GUA', 'CAG', 'UGC', 'CGU', 'CGG', 'CCA', 'GAC', 'CUC', 'AAC', 'Ncodons', 'AGU', 'GUU', 'CCU', 'CGC', 'CAA', 'CAC', 'GUG', 'CGA', 'GUC', 'GCU', 'UUU', 'GGU', 'UAG', 'UAA', 'AAU', 'GGG', 'ACC']\n",
      "M61 CV score (3.): 0.7876599603234877\n",
      "............\n",
      "Best model (M62) with 62 features: ['CUA', 'AGG', 'UGU', 'GAA', 'AUU', 'UUC', 'CUU', 'ACU', 'GGA', 'CCC', 'GCC', 'GGC', 'CUG', 'AAG', 'UGA', 'UAC', 'AAA', 'ACG', 'UCG', 'AUC', 'UCA', 'CAU', 'UAU', 'AUA', 'UUA', 'UCC', 'AUG', 'GAG', 'UCU', 'GCA', 'AGC', 'CCG', 'GAU', 'UUG', 'GUA', 'CAG', 'UGC', 'CGU', 'CGG', 'CCA', 'GAC', 'CUC', 'AAC', 'Ncodons', 'AGU', 'GUU', 'CCU', 'CGC', 'CAA', 'CAC', 'GUG', 'CGA', 'GUC', 'GCU', 'UUU', 'GGU', 'UAG', 'UAA', 'AAU', 'GGG', 'ACC', 'GCG']\n",
      "M62 CV score (3.): 0.7884274844999241\n",
      "............\n",
      "Best model (M63) with 63 features: ['CUA', 'AGG', 'UGU', 'GAA', 'AUU', 'UUC', 'CUU', 'ACU', 'GGA', 'CCC', 'GCC', 'GGC', 'CUG', 'AAG', 'UGA', 'UAC', 'AAA', 'ACG', 'UCG', 'AUC', 'UCA', 'CAU', 'UAU', 'AUA', 'UUA', 'UCC', 'AUG', 'GAG', 'UCU', 'GCA', 'AGC', 'CCG', 'GAU', 'UUG', 'GUA', 'CAG', 'UGC', 'CGU', 'CGG', 'CCA', 'GAC', 'CUC', 'AAC', 'Ncodons', 'AGU', 'GUU', 'CCU', 'CGC', 'CAA', 'CAC', 'GUG', 'CGA', 'GUC', 'GCU', 'UUU', 'GGU', 'UAG', 'UAA', 'AAU', 'GGG', 'ACC', 'GCG', 'UGG']\n",
      "M63 CV score (3.): 0.7901543333471419\n",
      "\n",
      "\n",
      "Best configuration has 63 features\n",
      "Features: ['CUA', 'AGG', 'UGU', 'GAA', 'AUU', 'UUC', 'CUU', 'ACU', 'GGA', 'CCC', 'GCC', 'GGC', 'CUG', 'AAG', 'UGA', 'UAC', 'AAA', 'ACG', 'UCG', 'AUC', 'UCA', 'CAU', 'UAU', 'AUA', 'UUA', 'UCC', 'AUG', 'GAG', 'UCU', 'GCA', 'AGC', 'CCG', 'GAU', 'UUG', 'GUA', 'CAG', 'UGC', 'CGU', 'CGG', 'CCA', 'GAC', 'CUC', 'AAC', 'Ncodons', 'AGU', 'GUU', 'CCU', 'CGC', 'CAA', 'CAC', 'GUG', 'CGA', 'GUC', 'GCU', 'UUU', 'GGU', 'UAG', 'UAA', 'AAU', 'GGG', 'ACC', 'GCG', 'UGG']\n",
      "Score step: 0.7901543333471419\n",
      "Total number of trained models: 2016\n"
     ]
    },
    {
     "data": {
      "image/png": "[encoded data removed]",
      "text/plain": [
       "<Figure size 432x288 with 1 Axes>"
      ]
     },
     "metadata": {
      "needs_background": "light"
     },
     "output_type": "display_data"
    },
    {
     "data": {
      "image/png": "[encoded data removed]",
      "text/plain": [
       "<Figure size 432x288 with 1 Axes>"
      ]
     },
     "metadata": {
      "needs_background": "light"
     },
     "output_type": "display_data"
    }
   ],
   "source": [
    "bf_lda,bscore,scores=forward_ff(X_train, y_train, X_test, y_test,\n",
    "                  get_evaluator(make_scorer(accuracy)), np.argmax, # 2.b\n",
    "                  get_cv_evaluator(make_scorer(accuracy), cv=5), np.argmax, # 3.\n",
    "                  #get_evaluator(make_scorer(accuracy)), np.argmax, # test\n",
    "                  candidates_scorer_name=\"accuracy\",\n",
    "                  subsets_scorer_name=\"accuracy\",\n",
    "                  verbose=True,\n",
    "                   dummyModel=DummyClassifier,mod=LDA)"
   ]
  },
  {
   "cell_type": "markdown",
   "metadata": {},
   "source": [
    "The model that have the best CV accuracy is the model with all the features, which seems to be in accordance with the result obtained with the lasso regression, in which very few coefficent are put to 0."
   ]
  },
  {
   "cell_type": "markdown",
   "metadata": {},
   "source": [
    "### Quadratic Discriminant Analysis"
   ]
  },
  {
   "cell_type": "markdown",
   "metadata": {},
   "source": [
    "QDA is a model which extend the LDA, by allowing that density functions (multivariate gaussians distributions) must have the same covariance matrix.\n",
    "\n",
    "Since the gaussian hypotesis isn't right, we expect that this model doesn't perform really well. We procede with QDA and feature selection, in order to find the best model with QDA."
   ]
  },
  {
   "cell_type": "code",
   "execution_count": 43,
   "metadata": {},
   "outputs": [
    {
     "data": {
      "text/plain": [
       "['CUA',\n",
       " 'AGG',\n",
       " 'CUU',\n",
       " 'UGU',\n",
       " 'UUC',\n",
       " 'CUG',\n",
       " 'GAA',\n",
       " 'GCC',\n",
       " 'CCC',\n",
       " 'AAG',\n",
       " 'ACU',\n",
       " 'CGU',\n",
       " 'UAU',\n",
       " 'UAC',\n",
       " 'CCA',\n",
       " 'GGG',\n",
       " 'GGA',\n",
       " 'UCA',\n",
       " 'CCU',\n",
       " 'GAU',\n",
       " 'AUC',\n",
       " 'ACG',\n",
       " 'UUG',\n",
       " 'AUU',\n",
       " 'GAG',\n",
       " 'GUA',\n",
       " 'AUA',\n",
       " 'UCG',\n",
       " 'GUC',\n",
       " 'AAU',\n",
       " 'CAC',\n",
       " 'CGG',\n",
       " 'CAU',\n",
       " 'UGC',\n",
       " 'GGC',\n",
       " 'CCG',\n",
       " 'AUG',\n",
       " 'GCA',\n",
       " 'AAA',\n",
       " 'UCU',\n",
       " 'CAG',\n",
       " 'CGA',\n",
       " 'UCC',\n",
       " 'GUG',\n",
       " 'GAC',\n",
       " 'UGG',\n",
       " 'UUA']"
      ]
     },
     "execution_count": 43,
     "metadata": {},
     "output_type": "execute_result"
    },
    {
     "data": {
      "text/plain": [
       "0.8332369958160152"
      ]
     },
     "execution_count": 43,
     "metadata": {},
     "output_type": "execute_result"
    },
    {
     "data": {
      "text/plain": [
       "[0.22414122444846427,\n",
       " 0.43888054239909413,\n",
       " 0.5216843185720138,\n",
       " 0.5607368232093788,\n",
       " 0.590483436667173,\n",
       " 0.6155254376153587,\n",
       " 0.6385530961027723,\n",
       " 0.668393837712939,\n",
       " 0.6872962896477445,\n",
       " 0.7054315396051681,\n",
       " 0.7178081718885927,\n",
       " 0.7311452795537082,\n",
       " 0.7411247508710882,\n",
       " 0.750142964323359,\n",
       " 0.7556119250472941,\n",
       " 0.7621373304427476,\n",
       " 0.7665505369217103,\n",
       " 0.7741305458512269,\n",
       " 0.7786404580749988,\n",
       " 0.7835336030599704,\n",
       " 0.7863160680668517,\n",
       " 0.7918816424787234,\n",
       " 0.7943766138720502,\n",
       " 0.7980226644020676,\n",
       " 0.80022963586904,\n",
       " 0.8013807150057305,\n",
       " 0.803587824558012,\n",
       " 0.8088651228729109,\n",
       " 0.8109759409363105,\n",
       " 0.8128948204200555,\n",
       " 0.8144303290572914,\n",
       " 0.8150056384834551,\n",
       " 0.8158695922340822,\n",
       " 0.8162529630805911,\n",
       " 0.8183639192292999,\n",
       " 0.820666445730172,\n",
       " 0.8235452482543716,\n",
       " 0.8241210179648988,\n",
       " 0.827479252682307,\n",
       " 0.8286309301886705,\n",
       " 0.8275749918299524,\n",
       " 0.8295902548594523,\n",
       " 0.8315095946275608,\n",
       " 0.8326609039064333,\n",
       " 0.8317012570365974,\n",
       " 0.8306459630759884,\n",
       " 0.8317015792356518,\n",
       " 0.8332369958160152,\n",
       " 0.832660995963306,\n",
       " 0.831989671218879,\n",
       " 0.8321814717132245,\n",
       " 0.8313178861900882,\n",
       " 0.8292072062119977,\n",
       " 0.8283433445182433,\n",
       " 0.8273839738190254,\n",
       " 0.8257529101478894,\n",
       " 0.8252731557556258,\n",
       " 0.8233544603856263,\n",
       " 0.8226825832999627,\n",
       " 0.8229702610272627,\n",
       " 0.8223938469186264,\n",
       " 0.8211468445205448,\n",
       " 0.8186517350419088,\n",
       " 0.8145259761480643]"
      ]
     },
     "execution_count": 43,
     "metadata": {},
     "output_type": "execute_result"
    },
    {
     "data": {
      "image/png": "[encoded data removed]",
      "text/plain": [
       "<Figure size 432x288 with 1 Axes>"
      ]
     },
     "metadata": {
      "needs_background": "light"
     },
     "output_type": "display_data"
    },
    {
     "data": {
      "image/png": "[encoded data removed]",
      "text/plain": [
       "<Figure size 432x288 with 1 Axes>"
      ]
     },
     "metadata": {
      "needs_background": "light"
     },
     "output_type": "display_data"
    }
   ],
   "source": [
    "%%capture --no-stdout --no-display\n",
    "\n",
    "from sklearn.discriminant_analysis import QuadraticDiscriminantAnalysis as QDA\n",
    "\n",
    "bf_qda,bscore,scores=forward_ff(X_train, y_train, X_test, y_test,\n",
    "                  get_evaluator(make_scorer(accuracy)), np.argmax, # 2.b\n",
    "                  get_cv_evaluator(make_scorer(accuracy), cv=5), np.argmax, # 3.\n",
    "                  candidates_scorer_name=\"accuracy\",\n",
    "                  subsets_scorer_name=\"accuracy\",\n",
    "                  verbose=False,\n",
    "                   dummyModel=DummyClassifier,mod=QDA,store_covariance=True)\n",
    "bf_qda\n",
    "bscore\n",
    "scores"
   ]
  },
  {
   "cell_type": "code",
   "execution_count": 44,
   "metadata": {},
   "outputs": [
    {
     "data": {
      "text/plain": [
       "47"
      ]
     },
     "execution_count": 44,
     "metadata": {},
     "output_type": "execute_result"
    }
   ],
   "source": [
    "len(bf_qda)"
   ]
  },
  {
   "cell_type": "markdown",
   "metadata": {},
   "source": [
    "QDA perform better than LDA and use a model with less covariates, so it is preferable."
   ]
  },
  {
   "cell_type": "markdown",
   "metadata": {},
   "source": [
    "### K Nearest Neighbors"
   ]
  },
  {
   "cell_type": "markdown",
   "metadata": {},
   "source": [
    "KNN is a non parametric method, so it doesn't have a training step. Since KNN have problems with highly dimensional data, first of all we try with all the features, then we try without the less important correlated features and finally with the best 15 principal component."
   ]
  },
  {
   "cell_type": "code",
   "execution_count": 48,
   "metadata": {},
   "outputs": [],
   "source": [
    "from sklearn.neighbors import KNeighborsClassifier\n",
    "\n",
    "k=np.arange(1,100,1)\n",
    "params = {'n_neighbors': k}\n",
    "knn=KNeighborsClassifier()\n",
    "cv = GridSearchCV(knn, params, scoring=make_scorer(accuracy), cv=5,verbose=False,n_jobs=-1)\n",
    "cv = cv.fit(X_train, y_train)"
   ]
  },
  {
   "cell_type": "code",
   "execution_count": 50,
   "metadata": {},
   "outputs": [
    {
     "name": "stdout",
     "output_type": "stream",
     "text": [
      "{'n_neighbors': 9}\n",
      "CV score 0.3560733601218833\n"
     ]
    },
    {
     "data": {
      "text/html": [
       "<div>\n",
       "<style scoped>\n",
       "    .dataframe tbody tr th:only-of-type {\n",
       "        vertical-align: middle;\n",
       "    }\n",
       "\n",
       "    .dataframe tbody tr th {\n",
       "        vertical-align: top;\n",
       "    }\n",
       "\n",
       "    .dataframe thead th {\n",
       "        text-align: right;\n",
       "    }\n",
       "</style>\n",
       "<table border=\"1\" class=\"dataframe\">\n",
       "  <thead>\n",
       "    <tr style=\"text-align: right;\">\n",
       "      <th></th>\n",
       "      <th>mean_fit_time</th>\n",
       "      <th>std_fit_time</th>\n",
       "      <th>mean_score_time</th>\n",
       "      <th>std_score_time</th>\n",
       "      <th>param_n_neighbors</th>\n",
       "      <th>params</th>\n",
       "      <th>split0_test_score</th>\n",
       "      <th>split1_test_score</th>\n",
       "      <th>split2_test_score</th>\n",
       "      <th>split3_test_score</th>\n",
       "      <th>split4_test_score</th>\n",
       "      <th>mean_test_score</th>\n",
       "      <th>std_test_score</th>\n",
       "      <th>rank_test_score</th>\n",
       "    </tr>\n",
       "  </thead>\n",
       "  <tbody>\n",
       "    <tr>\n",
       "      <th>8</th>\n",
       "      <td>0.128656</td>\n",
       "      <td>0.005107</td>\n",
       "      <td>0.218902</td>\n",
       "      <td>0.006621</td>\n",
       "      <td>9</td>\n",
       "      <td>{'n_neighbors': 9}</td>\n",
       "      <td>0.359712</td>\n",
       "      <td>0.355875</td>\n",
       "      <td>0.357006</td>\n",
       "      <td>0.353167</td>\n",
       "      <td>0.354607</td>\n",
       "      <td>0.356073</td>\n",
       "      <td>0.002225</td>\n",
       "      <td>1</td>\n",
       "    </tr>\n",
       "    <tr>\n",
       "      <th>4</th>\n",
       "      <td>0.127347</td>\n",
       "      <td>0.002397</td>\n",
       "      <td>0.209689</td>\n",
       "      <td>0.002127</td>\n",
       "      <td>5</td>\n",
       "      <td>{'n_neighbors': 5}</td>\n",
       "      <td>0.353957</td>\n",
       "      <td>0.356835</td>\n",
       "      <td>0.348369</td>\n",
       "      <td>0.345969</td>\n",
       "      <td>0.370921</td>\n",
       "      <td>0.355210</td>\n",
       "      <td>0.008755</td>\n",
       "      <td>2</td>\n",
       "    </tr>\n",
       "    <tr>\n",
       "      <th>7</th>\n",
       "      <td>0.125489</td>\n",
       "      <td>0.002594</td>\n",
       "      <td>0.214922</td>\n",
       "      <td>0.000630</td>\n",
       "      <td>8</td>\n",
       "      <td>{'n_neighbors': 8}</td>\n",
       "      <td>0.357314</td>\n",
       "      <td>0.349161</td>\n",
       "      <td>0.354127</td>\n",
       "      <td>0.348369</td>\n",
       "      <td>0.364203</td>\n",
       "      <td>0.354635</td>\n",
       "      <td>0.005800</td>\n",
       "      <td>3</td>\n",
       "    </tr>\n",
       "    <tr>\n",
       "      <th>9</th>\n",
       "      <td>0.129699</td>\n",
       "      <td>0.004401</td>\n",
       "      <td>0.218011</td>\n",
       "      <td>0.005191</td>\n",
       "      <td>10</td>\n",
       "      <td>{'n_neighbors': 10}</td>\n",
       "      <td>0.360192</td>\n",
       "      <td>0.356355</td>\n",
       "      <td>0.356526</td>\n",
       "      <td>0.343090</td>\n",
       "      <td>0.351248</td>\n",
       "      <td>0.353482</td>\n",
       "      <td>0.005925</td>\n",
       "      <td>4</td>\n",
       "    </tr>\n",
       "    <tr>\n",
       "      <th>5</th>\n",
       "      <td>0.127511</td>\n",
       "      <td>0.002350</td>\n",
       "      <td>0.214144</td>\n",
       "      <td>0.004398</td>\n",
       "      <td>6</td>\n",
       "      <td>{'n_neighbors': 6}</td>\n",
       "      <td>0.349161</td>\n",
       "      <td>0.345803</td>\n",
       "      <td>0.345489</td>\n",
       "      <td>0.353647</td>\n",
       "      <td>0.369482</td>\n",
       "      <td>0.352716</td>\n",
       "      <td>0.008884</td>\n",
       "      <td>5</td>\n",
       "    </tr>\n",
       "    <tr>\n",
       "      <th>...</th>\n",
       "      <td>...</td>\n",
       "      <td>...</td>\n",
       "      <td>...</td>\n",
       "      <td>...</td>\n",
       "      <td>...</td>\n",
       "      <td>...</td>\n",
       "      <td>...</td>\n",
       "      <td>...</td>\n",
       "      <td>...</td>\n",
       "      <td>...</td>\n",
       "      <td>...</td>\n",
       "      <td>...</td>\n",
       "      <td>...</td>\n",
       "      <td>...</td>\n",
       "    </tr>\n",
       "    <tr>\n",
       "      <th>92</th>\n",
       "      <td>0.154037</td>\n",
       "      <td>0.037651</td>\n",
       "      <td>0.362837</td>\n",
       "      <td>0.052460</td>\n",
       "      <td>93</td>\n",
       "      <td>{'n_neighbors': 93}</td>\n",
       "      <td>0.344365</td>\n",
       "      <td>0.330456</td>\n",
       "      <td>0.332534</td>\n",
       "      <td>0.325816</td>\n",
       "      <td>0.332054</td>\n",
       "      <td>0.333045</td>\n",
       "      <td>0.006137</td>\n",
       "      <td>95</td>\n",
       "    </tr>\n",
       "    <tr>\n",
       "      <th>93</th>\n",
       "      <td>0.137211</td>\n",
       "      <td>0.026141</td>\n",
       "      <td>0.310955</td>\n",
       "      <td>0.051238</td>\n",
       "      <td>94</td>\n",
       "      <td>{'n_neighbors': 94}</td>\n",
       "      <td>0.341487</td>\n",
       "      <td>0.334772</td>\n",
       "      <td>0.333493</td>\n",
       "      <td>0.325816</td>\n",
       "      <td>0.329175</td>\n",
       "      <td>0.332949</td>\n",
       "      <td>0.005322</td>\n",
       "      <td>96</td>\n",
       "    </tr>\n",
       "    <tr>\n",
       "      <th>91</th>\n",
       "      <td>0.126400</td>\n",
       "      <td>0.002496</td>\n",
       "      <td>0.344556</td>\n",
       "      <td>0.037771</td>\n",
       "      <td>92</td>\n",
       "      <td>{'n_neighbors': 92}</td>\n",
       "      <td>0.346283</td>\n",
       "      <td>0.330456</td>\n",
       "      <td>0.328695</td>\n",
       "      <td>0.324376</td>\n",
       "      <td>0.331574</td>\n",
       "      <td>0.332277</td>\n",
       "      <td>0.007419</td>\n",
       "      <td>97</td>\n",
       "    </tr>\n",
       "    <tr>\n",
       "      <th>90</th>\n",
       "      <td>0.141728</td>\n",
       "      <td>0.027404</td>\n",
       "      <td>0.301005</td>\n",
       "      <td>0.022528</td>\n",
       "      <td>91</td>\n",
       "      <td>{'n_neighbors': 91}</td>\n",
       "      <td>0.346283</td>\n",
       "      <td>0.329496</td>\n",
       "      <td>0.330134</td>\n",
       "      <td>0.321017</td>\n",
       "      <td>0.333493</td>\n",
       "      <td>0.332085</td>\n",
       "      <td>0.008204</td>\n",
       "      <td>98</td>\n",
       "    </tr>\n",
       "    <tr>\n",
       "      <th>1</th>\n",
       "      <td>0.126524</td>\n",
       "      <td>0.001385</td>\n",
       "      <td>0.203210</td>\n",
       "      <td>0.002519</td>\n",
       "      <td>2</td>\n",
       "      <td>{'n_neighbors': 2}</td>\n",
       "      <td>0.320384</td>\n",
       "      <td>0.319424</td>\n",
       "      <td>0.324376</td>\n",
       "      <td>0.339731</td>\n",
       "      <td>0.335413</td>\n",
       "      <td>0.327866</td>\n",
       "      <td>0.008212</td>\n",
       "      <td>99</td>\n",
       "    </tr>\n",
       "  </tbody>\n",
       "</table>\n",
       "<p>99 rows × 14 columns</p>\n",
       "</div>"
      ],
      "text/plain": [
       "    mean_fit_time  std_fit_time  mean_score_time  std_score_time  \\\n",
       "8        0.128656      0.005107         0.218902        0.006621   \n",
       "4        0.127347      0.002397         0.209689        0.002127   \n",
       "7        0.125489      0.002594         0.214922        0.000630   \n",
       "9        0.129699      0.004401         0.218011        0.005191   \n",
       "5        0.127511      0.002350         0.214144        0.004398   \n",
       "..            ...           ...              ...             ...   \n",
       "92       0.154037      0.037651         0.362837        0.052460   \n",
       "93       0.137211      0.026141         0.310955        0.051238   \n",
       "91       0.126400      0.002496         0.344556        0.037771   \n",
       "90       0.141728      0.027404         0.301005        0.022528   \n",
       "1        0.126524      0.001385         0.203210        0.002519   \n",
       "\n",
       "   param_n_neighbors               params  split0_test_score  \\\n",
       "8                  9   {'n_neighbors': 9}           0.359712   \n",
       "4                  5   {'n_neighbors': 5}           0.353957   \n",
       "7                  8   {'n_neighbors': 8}           0.357314   \n",
       "9                 10  {'n_neighbors': 10}           0.360192   \n",
       "5                  6   {'n_neighbors': 6}           0.349161   \n",
       "..               ...                  ...                ...   \n",
       "92                93  {'n_neighbors': 93}           0.344365   \n",
       "93                94  {'n_neighbors': 94}           0.341487   \n",
       "91                92  {'n_neighbors': 92}           0.346283   \n",
       "90                91  {'n_neighbors': 91}           0.346283   \n",
       "1                  2   {'n_neighbors': 2}           0.320384   \n",
       "\n",
       "    split1_test_score  split2_test_score  split3_test_score  \\\n",
       "8            0.355875           0.357006           0.353167   \n",
       "4            0.356835           0.348369           0.345969   \n",
       "7            0.349161           0.354127           0.348369   \n",
       "9            0.356355           0.356526           0.343090   \n",
       "5            0.345803           0.345489           0.353647   \n",
       "..                ...                ...                ...   \n",
       "92           0.330456           0.332534           0.325816   \n",
       "93           0.334772           0.333493           0.325816   \n",
       "91           0.330456           0.328695           0.324376   \n",
       "90           0.329496           0.330134           0.321017   \n",
       "1            0.319424           0.324376           0.339731   \n",
       "\n",
       "    split4_test_score  mean_test_score  std_test_score  rank_test_score  \n",
       "8            0.354607         0.356073        0.002225                1  \n",
       "4            0.370921         0.355210        0.008755                2  \n",
       "7            0.364203         0.354635        0.005800                3  \n",
       "9            0.351248         0.353482        0.005925                4  \n",
       "5            0.369482         0.352716        0.008884                5  \n",
       "..                ...              ...             ...              ...  \n",
       "92           0.332054         0.333045        0.006137               95  \n",
       "93           0.329175         0.332949        0.005322               96  \n",
       "91           0.331574         0.332277        0.007419               97  \n",
       "90           0.333493         0.332085        0.008204               98  \n",
       "1            0.335413         0.327866        0.008212               99  \n",
       "\n",
       "[99 rows x 14 columns]"
      ]
     },
     "execution_count": 50,
     "metadata": {},
     "output_type": "execute_result"
    }
   ],
   "source": [
    "print(cv.best_params_)\n",
    "print(\"CV score\", cv.best_score_)\n",
    "resknn=pd.DataFrame(cv.cv_results_)\n",
    "resknn.sort_values(by=\"rank_test_score\")"
   ]
  },
  {
   "cell_type": "code",
   "execution_count": 51,
   "metadata": {},
   "outputs": [
    {
     "data": {
      "text/plain": [
       "[<matplotlib.lines.Line2D at 0x7f58ba007e20>]"
      ]
     },
     "execution_count": 51,
     "metadata": {},
     "output_type": "execute_result"
    },
    {
     "data": {
      "text/plain": [
       "[<matplotlib.lines.Line2D at 0x7f58b9f8e1f0>]"
      ]
     },
     "execution_count": 51,
     "metadata": {},
     "output_type": "execute_result"
    },
    {
     "data": {
      "text/plain": [
       "Text(0.5, 1.0, 'k nearest neighbors')"
      ]
     },
     "execution_count": 51,
     "metadata": {},
     "output_type": "execute_result"
    },
    {
     "data": {
      "text/plain": [
       "Text(0.5, 0, 'n neighbors')"
      ]
     },
     "execution_count": 51,
     "metadata": {},
     "output_type": "execute_result"
    },
    {
     "data": {
      "text/plain": [
       "Text(0, 0.5, 'accuracy')"
      ]
     },
     "execution_count": 51,
     "metadata": {},
     "output_type": "execute_result"
    },
    {
     "data": {
      "image/png": "[encoded data removed]",
      "text/plain": [
       "<Figure size 432x288 with 1 Axes>"
      ]
     },
     "metadata": {
      "needs_background": "light"
     },
     "output_type": "display_data"
    }
   ],
   "source": [
    "plt.plot(resknn[\"param_n_neighbors\"],resknn[\"mean_test_score\"])\n",
    "plt.plot(cv.best_params_['n_neighbors'],cv.best_score_,marker=\"X\")\n",
    "plt.grid()\n",
    "plt.title(\"k nearest neighbors\")\n",
    "plt.xlabel(\"n neighbors\")\n",
    "plt.ylabel(\"accuracy\")"
   ]
  },
  {
   "cell_type": "markdown",
   "metadata": {},
   "source": [
    "KNN perform very badly with all the covariates."
   ]
  },
  {
   "cell_type": "code",
   "execution_count": 64,
   "metadata": {},
   "outputs": [],
   "source": [
    "less_imp_corr_covs.discard('ACA')\n",
    "less_imp_corr_covs.discard('AGA')\n",
    "\n",
    "k=np.arange(1,100,1)\n",
    "params = {'n_neighbors': k}\n",
    "knn=KNeighborsClassifier()\n",
    "cv = GridSearchCV(knn, params, scoring=make_scorer(accuracy), cv=5,verbose=False,n_jobs=-1)\n",
    "cv = cv.fit(X_train.drop(less_imp_corr_covs, axis = 1), y_train)"
   ]
  },
  {
   "cell_type": "code",
   "execution_count": 65,
   "metadata": {},
   "outputs": [
    {
     "name": "stdout",
     "output_type": "stream",
     "text": [
      "{'n_neighbors': 8}\n",
      "CV score 0.35540281786087446\n"
     ]
    },
    {
     "data": {
      "text/html": [
       "<div>\n",
       "<style scoped>\n",
       "    .dataframe tbody tr th:only-of-type {\n",
       "        vertical-align: middle;\n",
       "    }\n",
       "\n",
       "    .dataframe tbody tr th {\n",
       "        vertical-align: top;\n",
       "    }\n",
       "\n",
       "    .dataframe thead th {\n",
       "        text-align: right;\n",
       "    }\n",
       "</style>\n",
       "<table border=\"1\" class=\"dataframe\">\n",
       "  <thead>\n",
       "    <tr style=\"text-align: right;\">\n",
       "      <th></th>\n",
       "      <th>mean_fit_time</th>\n",
       "      <th>std_fit_time</th>\n",
       "      <th>mean_score_time</th>\n",
       "      <th>std_score_time</th>\n",
       "      <th>param_n_neighbors</th>\n",
       "      <th>params</th>\n",
       "      <th>split0_test_score</th>\n",
       "      <th>split1_test_score</th>\n",
       "      <th>split2_test_score</th>\n",
       "      <th>split3_test_score</th>\n",
       "      <th>split4_test_score</th>\n",
       "      <th>mean_test_score</th>\n",
       "      <th>std_test_score</th>\n",
       "      <th>rank_test_score</th>\n",
       "    </tr>\n",
       "  </thead>\n",
       "  <tbody>\n",
       "    <tr>\n",
       "      <th>7</th>\n",
       "      <td>0.099169</td>\n",
       "      <td>0.002337</td>\n",
       "      <td>0.195343</td>\n",
       "      <td>0.014237</td>\n",
       "      <td>8</td>\n",
       "      <td>{'n_neighbors': 8}</td>\n",
       "      <td>0.352518</td>\n",
       "      <td>0.350120</td>\n",
       "      <td>0.356526</td>\n",
       "      <td>0.349328</td>\n",
       "      <td>0.368522</td>\n",
       "      <td>0.355403</td>\n",
       "      <td>0.007022</td>\n",
       "      <td>1</td>\n",
       "    </tr>\n",
       "    <tr>\n",
       "      <th>8</th>\n",
       "      <td>0.118788</td>\n",
       "      <td>0.022518</td>\n",
       "      <td>0.216374</td>\n",
       "      <td>0.049881</td>\n",
       "      <td>9</td>\n",
       "      <td>{'n_neighbors': 9}</td>\n",
       "      <td>0.358273</td>\n",
       "      <td>0.355396</td>\n",
       "      <td>0.356526</td>\n",
       "      <td>0.353647</td>\n",
       "      <td>0.353167</td>\n",
       "      <td>0.355402</td>\n",
       "      <td>0.001875</td>\n",
       "      <td>2</td>\n",
       "    </tr>\n",
       "    <tr>\n",
       "      <th>9</th>\n",
       "      <td>0.103131</td>\n",
       "      <td>0.006268</td>\n",
       "      <td>0.215020</td>\n",
       "      <td>0.008782</td>\n",
       "      <td>10</td>\n",
       "      <td>{'n_neighbors': 10}</td>\n",
       "      <td>0.360671</td>\n",
       "      <td>0.358273</td>\n",
       "      <td>0.357965</td>\n",
       "      <td>0.345010</td>\n",
       "      <td>0.347889</td>\n",
       "      <td>0.353962</td>\n",
       "      <td>0.006272</td>\n",
       "      <td>3</td>\n",
       "    </tr>\n",
       "    <tr>\n",
       "      <th>4</th>\n",
       "      <td>0.116799</td>\n",
       "      <td>0.010696</td>\n",
       "      <td>0.190447</td>\n",
       "      <td>0.007912</td>\n",
       "      <td>5</td>\n",
       "      <td>{'n_neighbors': 5}</td>\n",
       "      <td>0.349161</td>\n",
       "      <td>0.353477</td>\n",
       "      <td>0.347409</td>\n",
       "      <td>0.348848</td>\n",
       "      <td>0.369482</td>\n",
       "      <td>0.353675</td>\n",
       "      <td>0.008159</td>\n",
       "      <td>4</td>\n",
       "    </tr>\n",
       "    <tr>\n",
       "      <th>21</th>\n",
       "      <td>0.103089</td>\n",
       "      <td>0.002891</td>\n",
       "      <td>0.207301</td>\n",
       "      <td>0.007020</td>\n",
       "      <td>22</td>\n",
       "      <td>{'n_neighbors': 22}</td>\n",
       "      <td>0.360671</td>\n",
       "      <td>0.345803</td>\n",
       "      <td>0.350768</td>\n",
       "      <td>0.345489</td>\n",
       "      <td>0.358445</td>\n",
       "      <td>0.352235</td>\n",
       "      <td>0.006305</td>\n",
       "      <td>5</td>\n",
       "    </tr>\n",
       "    <tr>\n",
       "      <th>...</th>\n",
       "      <td>...</td>\n",
       "      <td>...</td>\n",
       "      <td>...</td>\n",
       "      <td>...</td>\n",
       "      <td>...</td>\n",
       "      <td>...</td>\n",
       "      <td>...</td>\n",
       "      <td>...</td>\n",
       "      <td>...</td>\n",
       "      <td>...</td>\n",
       "      <td>...</td>\n",
       "      <td>...</td>\n",
       "      <td>...</td>\n",
       "      <td>...</td>\n",
       "    </tr>\n",
       "    <tr>\n",
       "      <th>91</th>\n",
       "      <td>0.098432</td>\n",
       "      <td>0.003059</td>\n",
       "      <td>0.263657</td>\n",
       "      <td>0.004928</td>\n",
       "      <td>92</td>\n",
       "      <td>{'n_neighbors': 92}</td>\n",
       "      <td>0.347242</td>\n",
       "      <td>0.330935</td>\n",
       "      <td>0.330134</td>\n",
       "      <td>0.325336</td>\n",
       "      <td>0.331094</td>\n",
       "      <td>0.332948</td>\n",
       "      <td>0.007452</td>\n",
       "      <td>95</td>\n",
       "    </tr>\n",
       "    <tr>\n",
       "      <th>97</th>\n",
       "      <td>0.101283</td>\n",
       "      <td>0.003472</td>\n",
       "      <td>0.260230</td>\n",
       "      <td>0.007333</td>\n",
       "      <td>98</td>\n",
       "      <td>{'n_neighbors': 98}</td>\n",
       "      <td>0.341966</td>\n",
       "      <td>0.328537</td>\n",
       "      <td>0.330134</td>\n",
       "      <td>0.333493</td>\n",
       "      <td>0.330134</td>\n",
       "      <td>0.332853</td>\n",
       "      <td>0.004835</td>\n",
       "      <td>96</td>\n",
       "    </tr>\n",
       "    <tr>\n",
       "      <th>93</th>\n",
       "      <td>0.100761</td>\n",
       "      <td>0.004816</td>\n",
       "      <td>0.262724</td>\n",
       "      <td>0.002873</td>\n",
       "      <td>94</td>\n",
       "      <td>{'n_neighbors': 94}</td>\n",
       "      <td>0.342446</td>\n",
       "      <td>0.333813</td>\n",
       "      <td>0.332534</td>\n",
       "      <td>0.324856</td>\n",
       "      <td>0.329175</td>\n",
       "      <td>0.332565</td>\n",
       "      <td>0.005833</td>\n",
       "      <td>97</td>\n",
       "    </tr>\n",
       "    <tr>\n",
       "      <th>90</th>\n",
       "      <td>0.100375</td>\n",
       "      <td>0.005382</td>\n",
       "      <td>0.261397</td>\n",
       "      <td>0.003515</td>\n",
       "      <td>91</td>\n",
       "      <td>{'n_neighbors': 91}</td>\n",
       "      <td>0.346283</td>\n",
       "      <td>0.329496</td>\n",
       "      <td>0.331094</td>\n",
       "      <td>0.321977</td>\n",
       "      <td>0.333493</td>\n",
       "      <td>0.332469</td>\n",
       "      <td>0.007908</td>\n",
       "      <td>98</td>\n",
       "    </tr>\n",
       "    <tr>\n",
       "      <th>1</th>\n",
       "      <td>0.117680</td>\n",
       "      <td>0.010556</td>\n",
       "      <td>0.238334</td>\n",
       "      <td>0.026750</td>\n",
       "      <td>2</td>\n",
       "      <td>{'n_neighbors': 2}</td>\n",
       "      <td>0.321343</td>\n",
       "      <td>0.314149</td>\n",
       "      <td>0.325816</td>\n",
       "      <td>0.332054</td>\n",
       "      <td>0.333493</td>\n",
       "      <td>0.325371</td>\n",
       "      <td>0.007113</td>\n",
       "      <td>99</td>\n",
       "    </tr>\n",
       "  </tbody>\n",
       "</table>\n",
       "<p>99 rows × 14 columns</p>\n",
       "</div>"
      ],
      "text/plain": [
       "    mean_fit_time  std_fit_time  mean_score_time  std_score_time  \\\n",
       "7        0.099169      0.002337         0.195343        0.014237   \n",
       "8        0.118788      0.022518         0.216374        0.049881   \n",
       "9        0.103131      0.006268         0.215020        0.008782   \n",
       "4        0.116799      0.010696         0.190447        0.007912   \n",
       "21       0.103089      0.002891         0.207301        0.007020   \n",
       "..            ...           ...              ...             ...   \n",
       "91       0.098432      0.003059         0.263657        0.004928   \n",
       "97       0.101283      0.003472         0.260230        0.007333   \n",
       "93       0.100761      0.004816         0.262724        0.002873   \n",
       "90       0.100375      0.005382         0.261397        0.003515   \n",
       "1        0.117680      0.010556         0.238334        0.026750   \n",
       "\n",
       "   param_n_neighbors               params  split0_test_score  \\\n",
       "7                  8   {'n_neighbors': 8}           0.352518   \n",
       "8                  9   {'n_neighbors': 9}           0.358273   \n",
       "9                 10  {'n_neighbors': 10}           0.360671   \n",
       "4                  5   {'n_neighbors': 5}           0.349161   \n",
       "21                22  {'n_neighbors': 22}           0.360671   \n",
       "..               ...                  ...                ...   \n",
       "91                92  {'n_neighbors': 92}           0.347242   \n",
       "97                98  {'n_neighbors': 98}           0.341966   \n",
       "93                94  {'n_neighbors': 94}           0.342446   \n",
       "90                91  {'n_neighbors': 91}           0.346283   \n",
       "1                  2   {'n_neighbors': 2}           0.321343   \n",
       "\n",
       "    split1_test_score  split2_test_score  split3_test_score  \\\n",
       "7            0.350120           0.356526           0.349328   \n",
       "8            0.355396           0.356526           0.353647   \n",
       "9            0.358273           0.357965           0.345010   \n",
       "4            0.353477           0.347409           0.348848   \n",
       "21           0.345803           0.350768           0.345489   \n",
       "..                ...                ...                ...   \n",
       "91           0.330935           0.330134           0.325336   \n",
       "97           0.328537           0.330134           0.333493   \n",
       "93           0.333813           0.332534           0.324856   \n",
       "90           0.329496           0.331094           0.321977   \n",
       "1            0.314149           0.325816           0.332054   \n",
       "\n",
       "    split4_test_score  mean_test_score  std_test_score  rank_test_score  \n",
       "7            0.368522         0.355403        0.007022                1  \n",
       "8            0.353167         0.355402        0.001875                2  \n",
       "9            0.347889         0.353962        0.006272                3  \n",
       "4            0.369482         0.353675        0.008159                4  \n",
       "21           0.358445         0.352235        0.006305                5  \n",
       "..                ...              ...             ...              ...  \n",
       "91           0.331094         0.332948        0.007452               95  \n",
       "97           0.330134         0.332853        0.004835               96  \n",
       "93           0.329175         0.332565        0.005833               97  \n",
       "90           0.333493         0.332469        0.007908               98  \n",
       "1            0.333493         0.325371        0.007113               99  \n",
       "\n",
       "[99 rows x 14 columns]"
      ]
     },
     "execution_count": 65,
     "metadata": {},
     "output_type": "execute_result"
    }
   ],
   "source": [
    "print(cv.best_params_)\n",
    "print(\"CV score\", cv.best_score_)\n",
    "resknn=pd.DataFrame(cv.cv_results_)\n",
    "resknn.sort_values(by=\"rank_test_score\")"
   ]
  },
  {
   "cell_type": "code",
   "execution_count": 66,
   "metadata": {},
   "outputs": [
    {
     "data": {
      "text/plain": [
       "[<matplotlib.lines.Line2D at 0x7f58b8d85a00>]"
      ]
     },
     "execution_count": 66,
     "metadata": {},
     "output_type": "execute_result"
    },
    {
     "data": {
      "text/plain": [
       "[<matplotlib.lines.Line2D at 0x7f58b8d85e50>]"
      ]
     },
     "execution_count": 66,
     "metadata": {},
     "output_type": "execute_result"
    },
    {
     "data": {
      "text/plain": [
       "Text(0.5, 1.0, 'k nearest neighbors')"
      ]
     },
     "execution_count": 66,
     "metadata": {},
     "output_type": "execute_result"
    },
    {
     "data": {
      "text/plain": [
       "Text(0.5, 0, 'n neighbors')"
      ]
     },
     "execution_count": 66,
     "metadata": {},
     "output_type": "execute_result"
    },
    {
     "data": {
      "text/plain": [
       "Text(0, 0.5, 'accuracy')"
      ]
     },
     "execution_count": 66,
     "metadata": {},
     "output_type": "execute_result"
    },
    {
     "data": {
      "image/png": "[encoded data removed]",
      "text/plain": [
       "<Figure size 432x288 with 1 Axes>"
      ]
     },
     "metadata": {
      "needs_background": "light"
     },
     "output_type": "display_data"
    }
   ],
   "source": [
    "plt.plot(resknn[\"param_n_neighbors\"],resknn[\"mean_test_score\"])\n",
    "plt.plot(cv.best_params_['n_neighbors'],cv.best_score_,marker=\"X\")\n",
    "plt.grid()\n",
    "plt.title(\"k nearest neighbors\")\n",
    "plt.xlabel(\"n neighbors\")\n",
    "plt.ylabel(\"accuracy\")"
   ]
  },
  {
   "cell_type": "markdown",
   "metadata": {},
   "source": [
    "It doesn't have great chances. Now we try with PCA."
   ]
  },
  {
   "cell_type": "code",
   "execution_count": 68,
   "metadata": {},
   "outputs": [],
   "source": [
    "from sklearn.decomposition import PCA\n",
    "X_train = (X_train-X_train.mean())/ X_train.std()\n",
    "\n",
    "pca = PCA()\n",
    "X_pca = pca.fit(X_train)\n",
    "X_prj = pca.fit_transform(X_train)"
   ]
  },
  {
   "cell_type": "code",
   "execution_count": 69,
   "metadata": {},
   "outputs": [],
   "source": [
    "k=np.arange(1,100,1)\n",
    "params = {'n_neighbors': k}\n",
    "knn=KNeighborsClassifier()\n",
    "cv = GridSearchCV(knn, params, scoring=make_scorer(accuracy), cv=5,verbose=False,n_jobs=-1)\n",
    "cv = cv.fit(X_prj[:,0:15], y_train)"
   ]
  },
  {
   "cell_type": "code",
   "execution_count": 70,
   "metadata": {},
   "outputs": [
    {
     "name": "stdout",
     "output_type": "stream",
     "text": [
      "{'n_neighbors': 9}\n",
      "CV score 0.7735568013919\n"
     ]
    },
    {
     "data": {
      "text/html": [
       "<div>\n",
       "<style scoped>\n",
       "    .dataframe tbody tr th:only-of-type {\n",
       "        vertical-align: middle;\n",
       "    }\n",
       "\n",
       "    .dataframe tbody tr th {\n",
       "        vertical-align: top;\n",
       "    }\n",
       "\n",
       "    .dataframe thead th {\n",
       "        text-align: right;\n",
       "    }\n",
       "</style>\n",
       "<table border=\"1\" class=\"dataframe\">\n",
       "  <thead>\n",
       "    <tr style=\"text-align: right;\">\n",
       "      <th></th>\n",
       "      <th>mean_fit_time</th>\n",
       "      <th>std_fit_time</th>\n",
       "      <th>mean_score_time</th>\n",
       "      <th>std_score_time</th>\n",
       "      <th>param_n_neighbors</th>\n",
       "      <th>params</th>\n",
       "      <th>split0_test_score</th>\n",
       "      <th>split1_test_score</th>\n",
       "      <th>split2_test_score</th>\n",
       "      <th>split3_test_score</th>\n",
       "      <th>split4_test_score</th>\n",
       "      <th>mean_test_score</th>\n",
       "      <th>std_test_score</th>\n",
       "      <th>rank_test_score</th>\n",
       "    </tr>\n",
       "  </thead>\n",
       "  <tbody>\n",
       "    <tr>\n",
       "      <th>8</th>\n",
       "      <td>0.041103</td>\n",
       "      <td>0.002372</td>\n",
       "      <td>0.850039</td>\n",
       "      <td>0.024275</td>\n",
       "      <td>9</td>\n",
       "      <td>{'n_neighbors': 9}</td>\n",
       "      <td>0.771703</td>\n",
       "      <td>0.766427</td>\n",
       "      <td>0.778311</td>\n",
       "      <td>0.780710</td>\n",
       "      <td>0.770633</td>\n",
       "      <td>0.773557</td>\n",
       "      <td>0.005227</td>\n",
       "      <td>1</td>\n",
       "    </tr>\n",
       "    <tr>\n",
       "      <th>10</th>\n",
       "      <td>0.040543</td>\n",
       "      <td>0.000972</td>\n",
       "      <td>0.901917</td>\n",
       "      <td>0.077747</td>\n",
       "      <td>11</td>\n",
       "      <td>{'n_neighbors': 11}</td>\n",
       "      <td>0.765947</td>\n",
       "      <td>0.758753</td>\n",
       "      <td>0.775912</td>\n",
       "      <td>0.776871</td>\n",
       "      <td>0.768234</td>\n",
       "      <td>0.769144</td>\n",
       "      <td>0.006701</td>\n",
       "      <td>2</td>\n",
       "    </tr>\n",
       "    <tr>\n",
       "      <th>12</th>\n",
       "      <td>0.047355</td>\n",
       "      <td>0.017206</td>\n",
       "      <td>0.872372</td>\n",
       "      <td>0.058777</td>\n",
       "      <td>13</td>\n",
       "      <td>{'n_neighbors': 13}</td>\n",
       "      <td>0.768825</td>\n",
       "      <td>0.761631</td>\n",
       "      <td>0.773992</td>\n",
       "      <td>0.773033</td>\n",
       "      <td>0.765835</td>\n",
       "      <td>0.768663</td>\n",
       "      <td>0.004582</td>\n",
       "      <td>3</td>\n",
       "    </tr>\n",
       "    <tr>\n",
       "      <th>6</th>\n",
       "      <td>0.041334</td>\n",
       "      <td>0.002936</td>\n",
       "      <td>0.820147</td>\n",
       "      <td>0.021609</td>\n",
       "      <td>7</td>\n",
       "      <td>{'n_neighbors': 7}</td>\n",
       "      <td>0.764029</td>\n",
       "      <td>0.766906</td>\n",
       "      <td>0.773033</td>\n",
       "      <td>0.774472</td>\n",
       "      <td>0.763436</td>\n",
       "      <td>0.768375</td>\n",
       "      <td>0.004568</td>\n",
       "      <td>4</td>\n",
       "    </tr>\n",
       "    <tr>\n",
       "      <th>11</th>\n",
       "      <td>0.044330</td>\n",
       "      <td>0.005191</td>\n",
       "      <td>0.909393</td>\n",
       "      <td>0.052016</td>\n",
       "      <td>12</td>\n",
       "      <td>{'n_neighbors': 12}</td>\n",
       "      <td>0.769784</td>\n",
       "      <td>0.757314</td>\n",
       "      <td>0.772553</td>\n",
       "      <td>0.777351</td>\n",
       "      <td>0.760557</td>\n",
       "      <td>0.767512</td>\n",
       "      <td>0.007480</td>\n",
       "      <td>5</td>\n",
       "    </tr>\n",
       "    <tr>\n",
       "      <th>...</th>\n",
       "      <td>...</td>\n",
       "      <td>...</td>\n",
       "      <td>...</td>\n",
       "      <td>...</td>\n",
       "      <td>...</td>\n",
       "      <td>...</td>\n",
       "      <td>...</td>\n",
       "      <td>...</td>\n",
       "      <td>...</td>\n",
       "      <td>...</td>\n",
       "      <td>...</td>\n",
       "      <td>...</td>\n",
       "      <td>...</td>\n",
       "      <td>...</td>\n",
       "    </tr>\n",
       "    <tr>\n",
       "      <th>97</th>\n",
       "      <td>0.039947</td>\n",
       "      <td>0.001408</td>\n",
       "      <td>1.133230</td>\n",
       "      <td>0.007117</td>\n",
       "      <td>98</td>\n",
       "      <td>{'n_neighbors': 98}</td>\n",
       "      <td>0.744844</td>\n",
       "      <td>0.732374</td>\n",
       "      <td>0.730326</td>\n",
       "      <td>0.733205</td>\n",
       "      <td>0.725528</td>\n",
       "      <td>0.733256</td>\n",
       "      <td>0.006378</td>\n",
       "      <td>95</td>\n",
       "    </tr>\n",
       "    <tr>\n",
       "      <th>96</th>\n",
       "      <td>0.039965</td>\n",
       "      <td>0.001319</td>\n",
       "      <td>1.124141</td>\n",
       "      <td>0.013188</td>\n",
       "      <td>97</td>\n",
       "      <td>{'n_neighbors': 97}</td>\n",
       "      <td>0.743885</td>\n",
       "      <td>0.729976</td>\n",
       "      <td>0.730806</td>\n",
       "      <td>0.734165</td>\n",
       "      <td>0.725048</td>\n",
       "      <td>0.732776</td>\n",
       "      <td>0.006273</td>\n",
       "      <td>96</td>\n",
       "    </tr>\n",
       "    <tr>\n",
       "      <th>98</th>\n",
       "      <td>0.039682</td>\n",
       "      <td>0.000862</td>\n",
       "      <td>0.984994</td>\n",
       "      <td>0.211243</td>\n",
       "      <td>99</td>\n",
       "      <td>{'n_neighbors': 99}</td>\n",
       "      <td>0.743405</td>\n",
       "      <td>0.730456</td>\n",
       "      <td>0.729367</td>\n",
       "      <td>0.732726</td>\n",
       "      <td>0.726008</td>\n",
       "      <td>0.732392</td>\n",
       "      <td>0.005917</td>\n",
       "      <td>97</td>\n",
       "    </tr>\n",
       "    <tr>\n",
       "      <th>0</th>\n",
       "      <td>0.059845</td>\n",
       "      <td>0.019342</td>\n",
       "      <td>0.618717</td>\n",
       "      <td>0.024180</td>\n",
       "      <td>1</td>\n",
       "      <td>{'n_neighbors': 1}</td>\n",
       "      <td>0.732854</td>\n",
       "      <td>0.716067</td>\n",
       "      <td>0.740403</td>\n",
       "      <td>0.730806</td>\n",
       "      <td>0.737044</td>\n",
       "      <td>0.731435</td>\n",
       "      <td>0.008372</td>\n",
       "      <td>98</td>\n",
       "    </tr>\n",
       "    <tr>\n",
       "      <th>1</th>\n",
       "      <td>0.040111</td>\n",
       "      <td>0.002405</td>\n",
       "      <td>0.735679</td>\n",
       "      <td>0.037027</td>\n",
       "      <td>2</td>\n",
       "      <td>{'n_neighbors': 2}</td>\n",
       "      <td>0.716547</td>\n",
       "      <td>0.705995</td>\n",
       "      <td>0.718330</td>\n",
       "      <td>0.715931</td>\n",
       "      <td>0.725048</td>\n",
       "      <td>0.716370</td>\n",
       "      <td>0.006116</td>\n",
       "      <td>99</td>\n",
       "    </tr>\n",
       "  </tbody>\n",
       "</table>\n",
       "<p>99 rows × 14 columns</p>\n",
       "</div>"
      ],
      "text/plain": [
       "    mean_fit_time  std_fit_time  mean_score_time  std_score_time  \\\n",
       "8        0.041103      0.002372         0.850039        0.024275   \n",
       "10       0.040543      0.000972         0.901917        0.077747   \n",
       "12       0.047355      0.017206         0.872372        0.058777   \n",
       "6        0.041334      0.002936         0.820147        0.021609   \n",
       "11       0.044330      0.005191         0.909393        0.052016   \n",
       "..            ...           ...              ...             ...   \n",
       "97       0.039947      0.001408         1.133230        0.007117   \n",
       "96       0.039965      0.001319         1.124141        0.013188   \n",
       "98       0.039682      0.000862         0.984994        0.211243   \n",
       "0        0.059845      0.019342         0.618717        0.024180   \n",
       "1        0.040111      0.002405         0.735679        0.037027   \n",
       "\n",
       "   param_n_neighbors               params  split0_test_score  \\\n",
       "8                  9   {'n_neighbors': 9}           0.771703   \n",
       "10                11  {'n_neighbors': 11}           0.765947   \n",
       "12                13  {'n_neighbors': 13}           0.768825   \n",
       "6                  7   {'n_neighbors': 7}           0.764029   \n",
       "11                12  {'n_neighbors': 12}           0.769784   \n",
       "..               ...                  ...                ...   \n",
       "97                98  {'n_neighbors': 98}           0.744844   \n",
       "96                97  {'n_neighbors': 97}           0.743885   \n",
       "98                99  {'n_neighbors': 99}           0.743405   \n",
       "0                  1   {'n_neighbors': 1}           0.732854   \n",
       "1                  2   {'n_neighbors': 2}           0.716547   \n",
       "\n",
       "    split1_test_score  split2_test_score  split3_test_score  \\\n",
       "8            0.766427           0.778311           0.780710   \n",
       "10           0.758753           0.775912           0.776871   \n",
       "12           0.761631           0.773992           0.773033   \n",
       "6            0.766906           0.773033           0.774472   \n",
       "11           0.757314           0.772553           0.777351   \n",
       "..                ...                ...                ...   \n",
       "97           0.732374           0.730326           0.733205   \n",
       "96           0.729976           0.730806           0.734165   \n",
       "98           0.730456           0.729367           0.732726   \n",
       "0            0.716067           0.740403           0.730806   \n",
       "1            0.705995           0.718330           0.715931   \n",
       "\n",
       "    split4_test_score  mean_test_score  std_test_score  rank_test_score  \n",
       "8            0.770633         0.773557        0.005227                1  \n",
       "10           0.768234         0.769144        0.006701                2  \n",
       "12           0.765835         0.768663        0.004582                3  \n",
       "6            0.763436         0.768375        0.004568                4  \n",
       "11           0.760557         0.767512        0.007480                5  \n",
       "..                ...              ...             ...              ...  \n",
       "97           0.725528         0.733256        0.006378               95  \n",
       "96           0.725048         0.732776        0.006273               96  \n",
       "98           0.726008         0.732392        0.005917               97  \n",
       "0            0.737044         0.731435        0.008372               98  \n",
       "1            0.725048         0.716370        0.006116               99  \n",
       "\n",
       "[99 rows x 14 columns]"
      ]
     },
     "execution_count": 70,
     "metadata": {},
     "output_type": "execute_result"
    }
   ],
   "source": [
    "print(cv.best_params_)\n",
    "print(\"CV score\", cv.best_score_)\n",
    "resknn=pd.DataFrame(cv.cv_results_)\n",
    "resknn.sort_values(by=\"rank_test_score\")"
   ]
  },
  {
   "cell_type": "code",
   "execution_count": 71,
   "metadata": {},
   "outputs": [
    {
     "data": {
      "text/plain": [
       "[<matplotlib.lines.Line2D at 0x7f58b8d3efa0>]"
      ]
     },
     "execution_count": 71,
     "metadata": {},
     "output_type": "execute_result"
    },
    {
     "data": {
      "text/plain": [
       "[<matplotlib.lines.Line2D at 0x7f58b8d464c0>]"
      ]
     },
     "execution_count": 71,
     "metadata": {},
     "output_type": "execute_result"
    },
    {
     "data": {
      "text/plain": [
       "Text(0.5, 1.0, 'k nearest neighbors')"
      ]
     },
     "execution_count": 71,
     "metadata": {},
     "output_type": "execute_result"
    },
    {
     "data": {
      "text/plain": [
       "Text(0.5, 0, 'n neighbors')"
      ]
     },
     "execution_count": 71,
     "metadata": {},
     "output_type": "execute_result"
    },
    {
     "data": {
      "text/plain": [
       "Text(0, 0.5, 'accuracy')"
      ]
     },
     "execution_count": 71,
     "metadata": {},
     "output_type": "execute_result"
    },
    {
     "data": {
      "image/png": "[encoded data removed]",
      "text/plain": [
       "<Figure size 432x288 with 1 Axes>"
      ]
     },
     "metadata": {
      "needs_background": "light"
     },
     "output_type": "display_data"
    }
   ],
   "source": [
    "plt.plot(resknn[\"param_n_neighbors\"],resknn[\"mean_test_score\"])\n",
    "plt.plot(cv.best_params_['n_neighbors'],cv.best_score_,marker=\"X\")\n",
    "plt.grid()\n",
    "plt.title(\"k nearest neighbors\")\n",
    "plt.xlabel(\"n neighbors\")\n",
    "plt.ylabel(\"accuracy\")"
   ]
  },
  {
   "cell_type": "markdown",
   "metadata": {},
   "source": [
    "With the first 15 PC, KNN perform well respect to the others KNNs, but produces still worse results than the others methods."
   ]
  }
 ],
 "metadata": {
  "kernelspec": {
   "display_name": "Python 3",
   "language": "python",
   "name": "python3"
  },
  "language_info": {
   "codemirror_mode": {
    "name": "ipython",
    "version": 3
   },
   "file_extension": ".py",
   "mimetype": "text/x-python",
   "name": "python",
   "nbconvert_exporter": "python",
   "pygments_lexer": "ipython3",
   "version": "3.8.5"
  }
 },
 "nbformat": 4,
 "nbformat_minor": 4
}
